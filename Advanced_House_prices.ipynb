{
  "nbformat": 4,
  "nbformat_minor": 0,
  "metadata": {
    "colab": {
      "provenance": [],
      "gpuType": "T4"
    },
    "kernelspec": {
      "name": "python3",
      "display_name": "Python 3"
    },
    "language_info": {
      "name": "python"
    },
    "accelerator": "GPU"
  },
  "cells": [
    {
      "cell_type": "markdown",
      "source": [
        "#                               **Advanced Housing Prices**"
      ],
      "metadata": {
        "id": "rzM0QgxfgLiy"
      }
    },
    {
      "cell_type": "markdown",
      "source": [
        "# Importing Libraries and Loading Dataset"
      ],
      "metadata": {
        "id": "oyDZO9gBf76b"
      }
    },
    {
      "cell_type": "code",
      "execution_count": 55,
      "metadata": {
        "id": "Bc1sTQrISZTe"
      },
      "outputs": [],
      "source": [
        "import numpy as np\n",
        "import pandas as pd\n",
        "import matplotlib.pyplot as plt\n",
        "from sklearn.linear_model import LinearRegression\n",
        "from sklearn.preprocessing import StandardScaler\n",
        "import seaborn as sns\n",
        "import warnings\n",
        "from sklearn.impute import SimpleImputer\n",
        "warnings.filterwarnings('ignore')\n",
        "%matplotlib inline"
      ]
    },
    {
      "cell_type": "code",
      "source": [
        "base = pd.read_csv('train.csv')"
      ],
      "metadata": {
        "id": "ov2dy1ApTMXp"
      },
      "execution_count": 56,
      "outputs": []
    },
    {
      "cell_type": "markdown",
      "source": [
        "# Basic Insepction"
      ],
      "metadata": {
        "id": "HRxchd0EfG5m"
      }
    },
    {
      "cell_type": "code",
      "source": [
        "base.head()"
      ],
      "metadata": {
        "colab": {
          "base_uri": "https://localhost:8080/",
          "height": 255
        },
        "id": "pjG_7LCZUIgp",
        "outputId": "ae9b1491-a99d-4209-ef4b-12da3184e8d7"
      },
      "execution_count": 3,
      "outputs": [
        {
          "output_type": "execute_result",
          "data": {
            "text/plain": [
              "   Id  MSSubClass MSZoning  LotFrontage  LotArea Street Alley LotShape  \\\n",
              "0   1          60       RL         65.0     8450   Pave   NaN      Reg   \n",
              "1   2          20       RL         80.0     9600   Pave   NaN      Reg   \n",
              "2   3          60       RL         68.0    11250   Pave   NaN      IR1   \n",
              "3   4          70       RL         60.0     9550   Pave   NaN      IR1   \n",
              "4   5          60       RL         84.0    14260   Pave   NaN      IR1   \n",
              "\n",
              "  LandContour Utilities  ... PoolArea PoolQC Fence MiscFeature MiscVal MoSold  \\\n",
              "0         Lvl    AllPub  ...        0    NaN   NaN         NaN       0      2   \n",
              "1         Lvl    AllPub  ...        0    NaN   NaN         NaN       0      5   \n",
              "2         Lvl    AllPub  ...        0    NaN   NaN         NaN       0      9   \n",
              "3         Lvl    AllPub  ...        0    NaN   NaN         NaN       0      2   \n",
              "4         Lvl    AllPub  ...        0    NaN   NaN         NaN       0     12   \n",
              "\n",
              "  YrSold  SaleType  SaleCondition  SalePrice  \n",
              "0   2008        WD         Normal     208500  \n",
              "1   2007        WD         Normal     181500  \n",
              "2   2008        WD         Normal     223500  \n",
              "3   2006        WD        Abnorml     140000  \n",
              "4   2008        WD         Normal     250000  \n",
              "\n",
              "[5 rows x 81 columns]"
            ],
            "text/html": [
              "\n",
              "  <div id=\"df-75dd98c4-fe2e-4484-8f1c-779ce6f969c9\" class=\"colab-df-container\">\n",
              "    <div>\n",
              "<style scoped>\n",
              "    .dataframe tbody tr th:only-of-type {\n",
              "        vertical-align: middle;\n",
              "    }\n",
              "\n",
              "    .dataframe tbody tr th {\n",
              "        vertical-align: top;\n",
              "    }\n",
              "\n",
              "    .dataframe thead th {\n",
              "        text-align: right;\n",
              "    }\n",
              "</style>\n",
              "<table border=\"1\" class=\"dataframe\">\n",
              "  <thead>\n",
              "    <tr style=\"text-align: right;\">\n",
              "      <th></th>\n",
              "      <th>Id</th>\n",
              "      <th>MSSubClass</th>\n",
              "      <th>MSZoning</th>\n",
              "      <th>LotFrontage</th>\n",
              "      <th>LotArea</th>\n",
              "      <th>Street</th>\n",
              "      <th>Alley</th>\n",
              "      <th>LotShape</th>\n",
              "      <th>LandContour</th>\n",
              "      <th>Utilities</th>\n",
              "      <th>...</th>\n",
              "      <th>PoolArea</th>\n",
              "      <th>PoolQC</th>\n",
              "      <th>Fence</th>\n",
              "      <th>MiscFeature</th>\n",
              "      <th>MiscVal</th>\n",
              "      <th>MoSold</th>\n",
              "      <th>YrSold</th>\n",
              "      <th>SaleType</th>\n",
              "      <th>SaleCondition</th>\n",
              "      <th>SalePrice</th>\n",
              "    </tr>\n",
              "  </thead>\n",
              "  <tbody>\n",
              "    <tr>\n",
              "      <th>0</th>\n",
              "      <td>1</td>\n",
              "      <td>60</td>\n",
              "      <td>RL</td>\n",
              "      <td>65.0</td>\n",
              "      <td>8450</td>\n",
              "      <td>Pave</td>\n",
              "      <td>NaN</td>\n",
              "      <td>Reg</td>\n",
              "      <td>Lvl</td>\n",
              "      <td>AllPub</td>\n",
              "      <td>...</td>\n",
              "      <td>0</td>\n",
              "      <td>NaN</td>\n",
              "      <td>NaN</td>\n",
              "      <td>NaN</td>\n",
              "      <td>0</td>\n",
              "      <td>2</td>\n",
              "      <td>2008</td>\n",
              "      <td>WD</td>\n",
              "      <td>Normal</td>\n",
              "      <td>208500</td>\n",
              "    </tr>\n",
              "    <tr>\n",
              "      <th>1</th>\n",
              "      <td>2</td>\n",
              "      <td>20</td>\n",
              "      <td>RL</td>\n",
              "      <td>80.0</td>\n",
              "      <td>9600</td>\n",
              "      <td>Pave</td>\n",
              "      <td>NaN</td>\n",
              "      <td>Reg</td>\n",
              "      <td>Lvl</td>\n",
              "      <td>AllPub</td>\n",
              "      <td>...</td>\n",
              "      <td>0</td>\n",
              "      <td>NaN</td>\n",
              "      <td>NaN</td>\n",
              "      <td>NaN</td>\n",
              "      <td>0</td>\n",
              "      <td>5</td>\n",
              "      <td>2007</td>\n",
              "      <td>WD</td>\n",
              "      <td>Normal</td>\n",
              "      <td>181500</td>\n",
              "    </tr>\n",
              "    <tr>\n",
              "      <th>2</th>\n",
              "      <td>3</td>\n",
              "      <td>60</td>\n",
              "      <td>RL</td>\n",
              "      <td>68.0</td>\n",
              "      <td>11250</td>\n",
              "      <td>Pave</td>\n",
              "      <td>NaN</td>\n",
              "      <td>IR1</td>\n",
              "      <td>Lvl</td>\n",
              "      <td>AllPub</td>\n",
              "      <td>...</td>\n",
              "      <td>0</td>\n",
              "      <td>NaN</td>\n",
              "      <td>NaN</td>\n",
              "      <td>NaN</td>\n",
              "      <td>0</td>\n",
              "      <td>9</td>\n",
              "      <td>2008</td>\n",
              "      <td>WD</td>\n",
              "      <td>Normal</td>\n",
              "      <td>223500</td>\n",
              "    </tr>\n",
              "    <tr>\n",
              "      <th>3</th>\n",
              "      <td>4</td>\n",
              "      <td>70</td>\n",
              "      <td>RL</td>\n",
              "      <td>60.0</td>\n",
              "      <td>9550</td>\n",
              "      <td>Pave</td>\n",
              "      <td>NaN</td>\n",
              "      <td>IR1</td>\n",
              "      <td>Lvl</td>\n",
              "      <td>AllPub</td>\n",
              "      <td>...</td>\n",
              "      <td>0</td>\n",
              "      <td>NaN</td>\n",
              "      <td>NaN</td>\n",
              "      <td>NaN</td>\n",
              "      <td>0</td>\n",
              "      <td>2</td>\n",
              "      <td>2006</td>\n",
              "      <td>WD</td>\n",
              "      <td>Abnorml</td>\n",
              "      <td>140000</td>\n",
              "    </tr>\n",
              "    <tr>\n",
              "      <th>4</th>\n",
              "      <td>5</td>\n",
              "      <td>60</td>\n",
              "      <td>RL</td>\n",
              "      <td>84.0</td>\n",
              "      <td>14260</td>\n",
              "      <td>Pave</td>\n",
              "      <td>NaN</td>\n",
              "      <td>IR1</td>\n",
              "      <td>Lvl</td>\n",
              "      <td>AllPub</td>\n",
              "      <td>...</td>\n",
              "      <td>0</td>\n",
              "      <td>NaN</td>\n",
              "      <td>NaN</td>\n",
              "      <td>NaN</td>\n",
              "      <td>0</td>\n",
              "      <td>12</td>\n",
              "      <td>2008</td>\n",
              "      <td>WD</td>\n",
              "      <td>Normal</td>\n",
              "      <td>250000</td>\n",
              "    </tr>\n",
              "  </tbody>\n",
              "</table>\n",
              "<p>5 rows × 81 columns</p>\n",
              "</div>\n",
              "    <div class=\"colab-df-buttons\">\n",
              "\n",
              "  <div class=\"colab-df-container\">\n",
              "    <button class=\"colab-df-convert\" onclick=\"convertToInteractive('df-75dd98c4-fe2e-4484-8f1c-779ce6f969c9')\"\n",
              "            title=\"Convert this dataframe to an interactive table.\"\n",
              "            style=\"display:none;\">\n",
              "\n",
              "  <svg xmlns=\"http://www.w3.org/2000/svg\" height=\"24px\" viewBox=\"0 -960 960 960\">\n",
              "    <path d=\"M120-120v-720h720v720H120Zm60-500h600v-160H180v160Zm220 220h160v-160H400v160Zm0 220h160v-160H400v160ZM180-400h160v-160H180v160Zm440 0h160v-160H620v160ZM180-180h160v-160H180v160Zm440 0h160v-160H620v160Z\"/>\n",
              "  </svg>\n",
              "    </button>\n",
              "\n",
              "  <style>\n",
              "    .colab-df-container {\n",
              "      display:flex;\n",
              "      gap: 12px;\n",
              "    }\n",
              "\n",
              "    .colab-df-convert {\n",
              "      background-color: #E8F0FE;\n",
              "      border: none;\n",
              "      border-radius: 50%;\n",
              "      cursor: pointer;\n",
              "      display: none;\n",
              "      fill: #1967D2;\n",
              "      height: 32px;\n",
              "      padding: 0 0 0 0;\n",
              "      width: 32px;\n",
              "    }\n",
              "\n",
              "    .colab-df-convert:hover {\n",
              "      background-color: #E2EBFA;\n",
              "      box-shadow: 0px 1px 2px rgba(60, 64, 67, 0.3), 0px 1px 3px 1px rgba(60, 64, 67, 0.15);\n",
              "      fill: #174EA6;\n",
              "    }\n",
              "\n",
              "    .colab-df-buttons div {\n",
              "      margin-bottom: 4px;\n",
              "    }\n",
              "\n",
              "    [theme=dark] .colab-df-convert {\n",
              "      background-color: #3B4455;\n",
              "      fill: #D2E3FC;\n",
              "    }\n",
              "\n",
              "    [theme=dark] .colab-df-convert:hover {\n",
              "      background-color: #434B5C;\n",
              "      box-shadow: 0px 1px 3px 1px rgba(0, 0, 0, 0.15);\n",
              "      filter: drop-shadow(0px 1px 2px rgba(0, 0, 0, 0.3));\n",
              "      fill: #FFFFFF;\n",
              "    }\n",
              "  </style>\n",
              "\n",
              "    <script>\n",
              "      const buttonEl =\n",
              "        document.querySelector('#df-75dd98c4-fe2e-4484-8f1c-779ce6f969c9 button.colab-df-convert');\n",
              "      buttonEl.style.display =\n",
              "        google.colab.kernel.accessAllowed ? 'block' : 'none';\n",
              "\n",
              "      async function convertToInteractive(key) {\n",
              "        const element = document.querySelector('#df-75dd98c4-fe2e-4484-8f1c-779ce6f969c9');\n",
              "        const dataTable =\n",
              "          await google.colab.kernel.invokeFunction('convertToInteractive',\n",
              "                                                    [key], {});\n",
              "        if (!dataTable) return;\n",
              "\n",
              "        const docLinkHtml = 'Like what you see? Visit the ' +\n",
              "          '<a target=\"_blank\" href=https://colab.research.google.com/notebooks/data_table.ipynb>data table notebook</a>'\n",
              "          + ' to learn more about interactive tables.';\n",
              "        element.innerHTML = '';\n",
              "        dataTable['output_type'] = 'display_data';\n",
              "        await google.colab.output.renderOutput(dataTable, element);\n",
              "        const docLink = document.createElement('div');\n",
              "        docLink.innerHTML = docLinkHtml;\n",
              "        element.appendChild(docLink);\n",
              "      }\n",
              "    </script>\n",
              "  </div>\n",
              "\n",
              "\n",
              "    <div id=\"df-9851431c-c8af-4bc2-a8f0-efb6590d9598\">\n",
              "      <button class=\"colab-df-quickchart\" onclick=\"quickchart('df-9851431c-c8af-4bc2-a8f0-efb6590d9598')\"\n",
              "                title=\"Suggest charts\"\n",
              "                style=\"display:none;\">\n",
              "\n",
              "<svg xmlns=\"http://www.w3.org/2000/svg\" height=\"24px\"viewBox=\"0 0 24 24\"\n",
              "     width=\"24px\">\n",
              "    <g>\n",
              "        <path d=\"M19 3H5c-1.1 0-2 .9-2 2v14c0 1.1.9 2 2 2h14c1.1 0 2-.9 2-2V5c0-1.1-.9-2-2-2zM9 17H7v-7h2v7zm4 0h-2V7h2v10zm4 0h-2v-4h2v4z\"/>\n",
              "    </g>\n",
              "</svg>\n",
              "      </button>\n",
              "\n",
              "<style>\n",
              "  .colab-df-quickchart {\n",
              "      --bg-color: #E8F0FE;\n",
              "      --fill-color: #1967D2;\n",
              "      --hover-bg-color: #E2EBFA;\n",
              "      --hover-fill-color: #174EA6;\n",
              "      --disabled-fill-color: #AAA;\n",
              "      --disabled-bg-color: #DDD;\n",
              "  }\n",
              "\n",
              "  [theme=dark] .colab-df-quickchart {\n",
              "      --bg-color: #3B4455;\n",
              "      --fill-color: #D2E3FC;\n",
              "      --hover-bg-color: #434B5C;\n",
              "      --hover-fill-color: #FFFFFF;\n",
              "      --disabled-bg-color: #3B4455;\n",
              "      --disabled-fill-color: #666;\n",
              "  }\n",
              "\n",
              "  .colab-df-quickchart {\n",
              "    background-color: var(--bg-color);\n",
              "    border: none;\n",
              "    border-radius: 50%;\n",
              "    cursor: pointer;\n",
              "    display: none;\n",
              "    fill: var(--fill-color);\n",
              "    height: 32px;\n",
              "    padding: 0;\n",
              "    width: 32px;\n",
              "  }\n",
              "\n",
              "  .colab-df-quickchart:hover {\n",
              "    background-color: var(--hover-bg-color);\n",
              "    box-shadow: 0 1px 2px rgba(60, 64, 67, 0.3), 0 1px 3px 1px rgba(60, 64, 67, 0.15);\n",
              "    fill: var(--button-hover-fill-color);\n",
              "  }\n",
              "\n",
              "  .colab-df-quickchart-complete:disabled,\n",
              "  .colab-df-quickchart-complete:disabled:hover {\n",
              "    background-color: var(--disabled-bg-color);\n",
              "    fill: var(--disabled-fill-color);\n",
              "    box-shadow: none;\n",
              "  }\n",
              "\n",
              "  .colab-df-spinner {\n",
              "    border: 2px solid var(--fill-color);\n",
              "    border-color: transparent;\n",
              "    border-bottom-color: var(--fill-color);\n",
              "    animation:\n",
              "      spin 1s steps(1) infinite;\n",
              "  }\n",
              "\n",
              "  @keyframes spin {\n",
              "    0% {\n",
              "      border-color: transparent;\n",
              "      border-bottom-color: var(--fill-color);\n",
              "      border-left-color: var(--fill-color);\n",
              "    }\n",
              "    20% {\n",
              "      border-color: transparent;\n",
              "      border-left-color: var(--fill-color);\n",
              "      border-top-color: var(--fill-color);\n",
              "    }\n",
              "    30% {\n",
              "      border-color: transparent;\n",
              "      border-left-color: var(--fill-color);\n",
              "      border-top-color: var(--fill-color);\n",
              "      border-right-color: var(--fill-color);\n",
              "    }\n",
              "    40% {\n",
              "      border-color: transparent;\n",
              "      border-right-color: var(--fill-color);\n",
              "      border-top-color: var(--fill-color);\n",
              "    }\n",
              "    60% {\n",
              "      border-color: transparent;\n",
              "      border-right-color: var(--fill-color);\n",
              "    }\n",
              "    80% {\n",
              "      border-color: transparent;\n",
              "      border-right-color: var(--fill-color);\n",
              "      border-bottom-color: var(--fill-color);\n",
              "    }\n",
              "    90% {\n",
              "      border-color: transparent;\n",
              "      border-bottom-color: var(--fill-color);\n",
              "    }\n",
              "  }\n",
              "</style>\n",
              "\n",
              "      <script>\n",
              "        async function quickchart(key) {\n",
              "          const quickchartButtonEl =\n",
              "            document.querySelector('#' + key + ' button');\n",
              "          quickchartButtonEl.disabled = true;  // To prevent multiple clicks.\n",
              "          quickchartButtonEl.classList.add('colab-df-spinner');\n",
              "          try {\n",
              "            const charts = await google.colab.kernel.invokeFunction(\n",
              "                'suggestCharts', [key], {});\n",
              "          } catch (error) {\n",
              "            console.error('Error during call to suggestCharts:', error);\n",
              "          }\n",
              "          quickchartButtonEl.classList.remove('colab-df-spinner');\n",
              "          quickchartButtonEl.classList.add('colab-df-quickchart-complete');\n",
              "        }\n",
              "        (() => {\n",
              "          let quickchartButtonEl =\n",
              "            document.querySelector('#df-9851431c-c8af-4bc2-a8f0-efb6590d9598 button');\n",
              "          quickchartButtonEl.style.display =\n",
              "            google.colab.kernel.accessAllowed ? 'block' : 'none';\n",
              "        })();\n",
              "      </script>\n",
              "    </div>\n",
              "\n",
              "    </div>\n",
              "  </div>\n"
            ],
            "application/vnd.google.colaboratory.intrinsic+json": {
              "type": "dataframe",
              "variable_name": "base"
            }
          },
          "metadata": {},
          "execution_count": 3
        }
      ]
    },
    {
      "cell_type": "code",
      "source": [
        "base.shape"
      ],
      "metadata": {
        "colab": {
          "base_uri": "https://localhost:8080/"
        },
        "id": "ovKy4SrDUNRQ",
        "outputId": "3c96c4ad-9bf5-474c-99d2-114a2aae0a61"
      },
      "execution_count": 5,
      "outputs": [
        {
          "output_type": "execute_result",
          "data": {
            "text/plain": [
              "(1460, 80)"
            ]
          },
          "metadata": {},
          "execution_count": 5
        }
      ]
    },
    {
      "cell_type": "code",
      "source": [
        "base.info()"
      ],
      "metadata": {
        "colab": {
          "base_uri": "https://localhost:8080/"
        },
        "id": "HkVgYxOjU6Kc",
        "outputId": "dd79985e-1911-491f-d502-eddad4cf9642"
      },
      "execution_count": 6,
      "outputs": [
        {
          "output_type": "stream",
          "name": "stdout",
          "text": [
            "<class 'pandas.core.frame.DataFrame'>\n",
            "RangeIndex: 1460 entries, 0 to 1459\n",
            "Data columns (total 80 columns):\n",
            " #   Column         Non-Null Count  Dtype  \n",
            "---  ------         --------------  -----  \n",
            " 0   MSSubClass     1460 non-null   int64  \n",
            " 1   MSZoning       1460 non-null   object \n",
            " 2   LotFrontage    1201 non-null   float64\n",
            " 3   LotArea        1460 non-null   int64  \n",
            " 4   Street         1460 non-null   object \n",
            " 5   Alley          91 non-null     object \n",
            " 6   LotShape       1460 non-null   object \n",
            " 7   LandContour    1460 non-null   object \n",
            " 8   Utilities      1460 non-null   object \n",
            " 9   LotConfig      1460 non-null   object \n",
            " 10  LandSlope      1460 non-null   object \n",
            " 11  Neighborhood   1460 non-null   object \n",
            " 12  Condition1     1460 non-null   object \n",
            " 13  Condition2     1460 non-null   object \n",
            " 14  BldgType       1460 non-null   object \n",
            " 15  HouseStyle     1460 non-null   object \n",
            " 16  OverallQual    1460 non-null   int64  \n",
            " 17  OverallCond    1460 non-null   int64  \n",
            " 18  YearBuilt      1460 non-null   int64  \n",
            " 19  YearRemodAdd   1460 non-null   int64  \n",
            " 20  RoofStyle      1460 non-null   object \n",
            " 21  RoofMatl       1460 non-null   object \n",
            " 22  Exterior1st    1460 non-null   object \n",
            " 23  Exterior2nd    1460 non-null   object \n",
            " 24  MasVnrType     588 non-null    object \n",
            " 25  MasVnrArea     1452 non-null   float64\n",
            " 26  ExterQual      1460 non-null   object \n",
            " 27  ExterCond      1460 non-null   object \n",
            " 28  Foundation     1460 non-null   object \n",
            " 29  BsmtQual       1423 non-null   object \n",
            " 30  BsmtCond       1423 non-null   object \n",
            " 31  BsmtExposure   1422 non-null   object \n",
            " 32  BsmtFinType1   1423 non-null   object \n",
            " 33  BsmtFinSF1     1460 non-null   int64  \n",
            " 34  BsmtFinType2   1422 non-null   object \n",
            " 35  BsmtFinSF2     1460 non-null   int64  \n",
            " 36  BsmtUnfSF      1460 non-null   int64  \n",
            " 37  TotalBsmtSF    1460 non-null   int64  \n",
            " 38  Heating        1460 non-null   object \n",
            " 39  HeatingQC      1460 non-null   object \n",
            " 40  CentralAir     1460 non-null   object \n",
            " 41  Electrical     1459 non-null   object \n",
            " 42  1stFlrSF       1460 non-null   int64  \n",
            " 43  2ndFlrSF       1460 non-null   int64  \n",
            " 44  LowQualFinSF   1460 non-null   int64  \n",
            " 45  GrLivArea      1460 non-null   int64  \n",
            " 46  BsmtFullBath   1460 non-null   int64  \n",
            " 47  BsmtHalfBath   1460 non-null   int64  \n",
            " 48  FullBath       1460 non-null   int64  \n",
            " 49  HalfBath       1460 non-null   int64  \n",
            " 50  BedroomAbvGr   1460 non-null   int64  \n",
            " 51  KitchenAbvGr   1460 non-null   int64  \n",
            " 52  KitchenQual    1460 non-null   object \n",
            " 53  TotRmsAbvGrd   1460 non-null   int64  \n",
            " 54  Functional     1460 non-null   object \n",
            " 55  Fireplaces     1460 non-null   int64  \n",
            " 56  FireplaceQu    770 non-null    object \n",
            " 57  GarageType     1379 non-null   object \n",
            " 58  GarageYrBlt    1379 non-null   float64\n",
            " 59  GarageFinish   1379 non-null   object \n",
            " 60  GarageCars     1460 non-null   int64  \n",
            " 61  GarageArea     1460 non-null   int64  \n",
            " 62  GarageQual     1379 non-null   object \n",
            " 63  GarageCond     1379 non-null   object \n",
            " 64  PavedDrive     1460 non-null   object \n",
            " 65  WoodDeckSF     1460 non-null   int64  \n",
            " 66  OpenPorchSF    1460 non-null   int64  \n",
            " 67  EnclosedPorch  1460 non-null   int64  \n",
            " 68  3SsnPorch      1460 non-null   int64  \n",
            " 69  ScreenPorch    1460 non-null   int64  \n",
            " 70  PoolArea       1460 non-null   int64  \n",
            " 71  PoolQC         7 non-null      object \n",
            " 72  Fence          281 non-null    object \n",
            " 73  MiscFeature    54 non-null     object \n",
            " 74  MiscVal        1460 non-null   int64  \n",
            " 75  MoSold         1460 non-null   int64  \n",
            " 76  YrSold         1460 non-null   int64  \n",
            " 77  SaleType       1460 non-null   object \n",
            " 78  SaleCondition  1460 non-null   object \n",
            " 79  SalePrice      1460 non-null   int64  \n",
            "dtypes: float64(3), int64(34), object(43)\n",
            "memory usage: 912.6+ KB\n"
          ]
        }
      ]
    },
    {
      "cell_type": "code",
      "source": [
        "base = base.drop('Id', axis = 1)"
      ],
      "metadata": {
        "id": "DX-UpPTKV4tc"
      },
      "execution_count": 4,
      "outputs": []
    },
    {
      "cell_type": "markdown",
      "source": [
        "# EDA and Feature Engineering"
      ],
      "metadata": {
        "id": "dVDzTu0PfV37"
      }
    },
    {
      "cell_type": "code",
      "source": [
        "num_col = base.select_dtypes(include=['int64', 'float64']).columns.tolist()\n",
        "cat_col = base.select_dtypes(include=['object', 'category']).columns.tolist()"
      ],
      "metadata": {
        "id": "A21suC8ZZsXE"
      },
      "execution_count": 7,
      "outputs": []
    },
    {
      "cell_type": "code",
      "source": [
        "# print(\"Number of categorical columns:\", len(cat_col.columns))\n",
        "# print(\"Number of numerical columns:\", len(num_col.columns))"
      ],
      "metadata": {
        "id": "Yilqlxb-VszI"
      },
      "execution_count": 8,
      "outputs": []
    },
    {
      "cell_type": "code",
      "source": [
        "base[num_col].info()"
      ],
      "metadata": {
        "colab": {
          "base_uri": "https://localhost:8080/"
        },
        "id": "dJTWVdIsZMmd",
        "outputId": "08c464e8-32d8-4f60-e282-72222b2f2e95"
      },
      "execution_count": 9,
      "outputs": [
        {
          "output_type": "stream",
          "name": "stdout",
          "text": [
            "<class 'pandas.core.frame.DataFrame'>\n",
            "RangeIndex: 1460 entries, 0 to 1459\n",
            "Data columns (total 37 columns):\n",
            " #   Column         Non-Null Count  Dtype  \n",
            "---  ------         --------------  -----  \n",
            " 0   MSSubClass     1460 non-null   int64  \n",
            " 1   LotFrontage    1201 non-null   float64\n",
            " 2   LotArea        1460 non-null   int64  \n",
            " 3   OverallQual    1460 non-null   int64  \n",
            " 4   OverallCond    1460 non-null   int64  \n",
            " 5   YearBuilt      1460 non-null   int64  \n",
            " 6   YearRemodAdd   1460 non-null   int64  \n",
            " 7   MasVnrArea     1452 non-null   float64\n",
            " 8   BsmtFinSF1     1460 non-null   int64  \n",
            " 9   BsmtFinSF2     1460 non-null   int64  \n",
            " 10  BsmtUnfSF      1460 non-null   int64  \n",
            " 11  TotalBsmtSF    1460 non-null   int64  \n",
            " 12  1stFlrSF       1460 non-null   int64  \n",
            " 13  2ndFlrSF       1460 non-null   int64  \n",
            " 14  LowQualFinSF   1460 non-null   int64  \n",
            " 15  GrLivArea      1460 non-null   int64  \n",
            " 16  BsmtFullBath   1460 non-null   int64  \n",
            " 17  BsmtHalfBath   1460 non-null   int64  \n",
            " 18  FullBath       1460 non-null   int64  \n",
            " 19  HalfBath       1460 non-null   int64  \n",
            " 20  BedroomAbvGr   1460 non-null   int64  \n",
            " 21  KitchenAbvGr   1460 non-null   int64  \n",
            " 22  TotRmsAbvGrd   1460 non-null   int64  \n",
            " 23  Fireplaces     1460 non-null   int64  \n",
            " 24  GarageYrBlt    1379 non-null   float64\n",
            " 25  GarageCars     1460 non-null   int64  \n",
            " 26  GarageArea     1460 non-null   int64  \n",
            " 27  WoodDeckSF     1460 non-null   int64  \n",
            " 28  OpenPorchSF    1460 non-null   int64  \n",
            " 29  EnclosedPorch  1460 non-null   int64  \n",
            " 30  3SsnPorch      1460 non-null   int64  \n",
            " 31  ScreenPorch    1460 non-null   int64  \n",
            " 32  PoolArea       1460 non-null   int64  \n",
            " 33  MiscVal        1460 non-null   int64  \n",
            " 34  MoSold         1460 non-null   int64  \n",
            " 35  YrSold         1460 non-null   int64  \n",
            " 36  SalePrice      1460 non-null   int64  \n",
            "dtypes: float64(3), int64(34)\n",
            "memory usage: 422.2 KB\n"
          ]
        }
      ]
    },
    {
      "cell_type": "code",
      "metadata": {
        "colab": {
          "base_uri": "https://localhost:8080/"
        },
        "id": "13327c4f",
        "outputId": "22be7f8a-038e-4d7c-ba01-97d5be636ff2"
      },
      "source": [
        "missing_values = base[num_col].isnull().sum()\n",
        "missing_values = missing_values[missing_values > 0]\n",
        "print(\"Columns with missing values and their counts:\")\n",
        "print(missing_values)"
      ],
      "execution_count": 10,
      "outputs": [
        {
          "output_type": "stream",
          "name": "stdout",
          "text": [
            "Columns with missing values and their counts:\n",
            "LotFrontage    259\n",
            "MasVnrArea       8\n",
            "GarageYrBlt     81\n",
            "dtype: int64\n"
          ]
        }
      ]
    },
    {
      "cell_type": "code",
      "source": [
        "base[['LotFrontage', 'MasVnrArea', 'GarageYrBlt']].describe()\n"
      ],
      "metadata": {
        "colab": {
          "base_uri": "https://localhost:8080/",
          "height": 300
        },
        "id": "rumxqcigaheN",
        "outputId": "e468ffc6-7b18-4f9a-9f79-bf19b06b197f"
      },
      "execution_count": 11,
      "outputs": [
        {
          "output_type": "execute_result",
          "data": {
            "text/plain": [
              "       LotFrontage   MasVnrArea  GarageYrBlt\n",
              "count  1201.000000  1452.000000  1379.000000\n",
              "mean     70.049958   103.685262  1978.506164\n",
              "std      24.284752   181.066207    24.689725\n",
              "min      21.000000     0.000000  1900.000000\n",
              "25%      59.000000     0.000000  1961.000000\n",
              "50%      69.000000     0.000000  1980.000000\n",
              "75%      80.000000   166.000000  2002.000000\n",
              "max     313.000000  1600.000000  2010.000000"
            ],
            "text/html": [
              "\n",
              "  <div id=\"df-ba595f8a-1c16-4c3b-a53c-a7b2f150bfdc\" class=\"colab-df-container\">\n",
              "    <div>\n",
              "<style scoped>\n",
              "    .dataframe tbody tr th:only-of-type {\n",
              "        vertical-align: middle;\n",
              "    }\n",
              "\n",
              "    .dataframe tbody tr th {\n",
              "        vertical-align: top;\n",
              "    }\n",
              "\n",
              "    .dataframe thead th {\n",
              "        text-align: right;\n",
              "    }\n",
              "</style>\n",
              "<table border=\"1\" class=\"dataframe\">\n",
              "  <thead>\n",
              "    <tr style=\"text-align: right;\">\n",
              "      <th></th>\n",
              "      <th>LotFrontage</th>\n",
              "      <th>MasVnrArea</th>\n",
              "      <th>GarageYrBlt</th>\n",
              "    </tr>\n",
              "  </thead>\n",
              "  <tbody>\n",
              "    <tr>\n",
              "      <th>count</th>\n",
              "      <td>1201.000000</td>\n",
              "      <td>1452.000000</td>\n",
              "      <td>1379.000000</td>\n",
              "    </tr>\n",
              "    <tr>\n",
              "      <th>mean</th>\n",
              "      <td>70.049958</td>\n",
              "      <td>103.685262</td>\n",
              "      <td>1978.506164</td>\n",
              "    </tr>\n",
              "    <tr>\n",
              "      <th>std</th>\n",
              "      <td>24.284752</td>\n",
              "      <td>181.066207</td>\n",
              "      <td>24.689725</td>\n",
              "    </tr>\n",
              "    <tr>\n",
              "      <th>min</th>\n",
              "      <td>21.000000</td>\n",
              "      <td>0.000000</td>\n",
              "      <td>1900.000000</td>\n",
              "    </tr>\n",
              "    <tr>\n",
              "      <th>25%</th>\n",
              "      <td>59.000000</td>\n",
              "      <td>0.000000</td>\n",
              "      <td>1961.000000</td>\n",
              "    </tr>\n",
              "    <tr>\n",
              "      <th>50%</th>\n",
              "      <td>69.000000</td>\n",
              "      <td>0.000000</td>\n",
              "      <td>1980.000000</td>\n",
              "    </tr>\n",
              "    <tr>\n",
              "      <th>75%</th>\n",
              "      <td>80.000000</td>\n",
              "      <td>166.000000</td>\n",
              "      <td>2002.000000</td>\n",
              "    </tr>\n",
              "    <tr>\n",
              "      <th>max</th>\n",
              "      <td>313.000000</td>\n",
              "      <td>1600.000000</td>\n",
              "      <td>2010.000000</td>\n",
              "    </tr>\n",
              "  </tbody>\n",
              "</table>\n",
              "</div>\n",
              "    <div class=\"colab-df-buttons\">\n",
              "\n",
              "  <div class=\"colab-df-container\">\n",
              "    <button class=\"colab-df-convert\" onclick=\"convertToInteractive('df-ba595f8a-1c16-4c3b-a53c-a7b2f150bfdc')\"\n",
              "            title=\"Convert this dataframe to an interactive table.\"\n",
              "            style=\"display:none;\">\n",
              "\n",
              "  <svg xmlns=\"http://www.w3.org/2000/svg\" height=\"24px\" viewBox=\"0 -960 960 960\">\n",
              "    <path d=\"M120-120v-720h720v720H120Zm60-500h600v-160H180v160Zm220 220h160v-160H400v160Zm0 220h160v-160H400v160ZM180-400h160v-160H180v160Zm440 0h160v-160H620v160ZM180-180h160v-160H180v160Zm440 0h160v-160H620v160Z\"/>\n",
              "  </svg>\n",
              "    </button>\n",
              "\n",
              "  <style>\n",
              "    .colab-df-container {\n",
              "      display:flex;\n",
              "      gap: 12px;\n",
              "    }\n",
              "\n",
              "    .colab-df-convert {\n",
              "      background-color: #E8F0FE;\n",
              "      border: none;\n",
              "      border-radius: 50%;\n",
              "      cursor: pointer;\n",
              "      display: none;\n",
              "      fill: #1967D2;\n",
              "      height: 32px;\n",
              "      padding: 0 0 0 0;\n",
              "      width: 32px;\n",
              "    }\n",
              "\n",
              "    .colab-df-convert:hover {\n",
              "      background-color: #E2EBFA;\n",
              "      box-shadow: 0px 1px 2px rgba(60, 64, 67, 0.3), 0px 1px 3px 1px rgba(60, 64, 67, 0.15);\n",
              "      fill: #174EA6;\n",
              "    }\n",
              "\n",
              "    .colab-df-buttons div {\n",
              "      margin-bottom: 4px;\n",
              "    }\n",
              "\n",
              "    [theme=dark] .colab-df-convert {\n",
              "      background-color: #3B4455;\n",
              "      fill: #D2E3FC;\n",
              "    }\n",
              "\n",
              "    [theme=dark] .colab-df-convert:hover {\n",
              "      background-color: #434B5C;\n",
              "      box-shadow: 0px 1px 3px 1px rgba(0, 0, 0, 0.15);\n",
              "      filter: drop-shadow(0px 1px 2px rgba(0, 0, 0, 0.3));\n",
              "      fill: #FFFFFF;\n",
              "    }\n",
              "  </style>\n",
              "\n",
              "    <script>\n",
              "      const buttonEl =\n",
              "        document.querySelector('#df-ba595f8a-1c16-4c3b-a53c-a7b2f150bfdc button.colab-df-convert');\n",
              "      buttonEl.style.display =\n",
              "        google.colab.kernel.accessAllowed ? 'block' : 'none';\n",
              "\n",
              "      async function convertToInteractive(key) {\n",
              "        const element = document.querySelector('#df-ba595f8a-1c16-4c3b-a53c-a7b2f150bfdc');\n",
              "        const dataTable =\n",
              "          await google.colab.kernel.invokeFunction('convertToInteractive',\n",
              "                                                    [key], {});\n",
              "        if (!dataTable) return;\n",
              "\n",
              "        const docLinkHtml = 'Like what you see? Visit the ' +\n",
              "          '<a target=\"_blank\" href=https://colab.research.google.com/notebooks/data_table.ipynb>data table notebook</a>'\n",
              "          + ' to learn more about interactive tables.';\n",
              "        element.innerHTML = '';\n",
              "        dataTable['output_type'] = 'display_data';\n",
              "        await google.colab.output.renderOutput(dataTable, element);\n",
              "        const docLink = document.createElement('div');\n",
              "        docLink.innerHTML = docLinkHtml;\n",
              "        element.appendChild(docLink);\n",
              "      }\n",
              "    </script>\n",
              "  </div>\n",
              "\n",
              "\n",
              "    <div id=\"df-09aea42e-0c2f-4b65-a1ff-6cda620bfd0b\">\n",
              "      <button class=\"colab-df-quickchart\" onclick=\"quickchart('df-09aea42e-0c2f-4b65-a1ff-6cda620bfd0b')\"\n",
              "                title=\"Suggest charts\"\n",
              "                style=\"display:none;\">\n",
              "\n",
              "<svg xmlns=\"http://www.w3.org/2000/svg\" height=\"24px\"viewBox=\"0 0 24 24\"\n",
              "     width=\"24px\">\n",
              "    <g>\n",
              "        <path d=\"M19 3H5c-1.1 0-2 .9-2 2v14c0 1.1.9 2 2 2h14c1.1 0 2-.9 2-2V5c0-1.1-.9-2-2-2zM9 17H7v-7h2v7zm4 0h-2V7h2v10zm4 0h-2v-4h2v4z\"/>\n",
              "    </g>\n",
              "</svg>\n",
              "      </button>\n",
              "\n",
              "<style>\n",
              "  .colab-df-quickchart {\n",
              "      --bg-color: #E8F0FE;\n",
              "      --fill-color: #1967D2;\n",
              "      --hover-bg-color: #E2EBFA;\n",
              "      --hover-fill-color: #174EA6;\n",
              "      --disabled-fill-color: #AAA;\n",
              "      --disabled-bg-color: #DDD;\n",
              "  }\n",
              "\n",
              "  [theme=dark] .colab-df-quickchart {\n",
              "      --bg-color: #3B4455;\n",
              "      --fill-color: #D2E3FC;\n",
              "      --hover-bg-color: #434B5C;\n",
              "      --hover-fill-color: #FFFFFF;\n",
              "      --disabled-bg-color: #3B4455;\n",
              "      --disabled-fill-color: #666;\n",
              "  }\n",
              "\n",
              "  .colab-df-quickchart {\n",
              "    background-color: var(--bg-color);\n",
              "    border: none;\n",
              "    border-radius: 50%;\n",
              "    cursor: pointer;\n",
              "    display: none;\n",
              "    fill: var(--fill-color);\n",
              "    height: 32px;\n",
              "    padding: 0;\n",
              "    width: 32px;\n",
              "  }\n",
              "\n",
              "  .colab-df-quickchart:hover {\n",
              "    background-color: var(--hover-bg-color);\n",
              "    box-shadow: 0 1px 2px rgba(60, 64, 67, 0.3), 0 1px 3px 1px rgba(60, 64, 67, 0.15);\n",
              "    fill: var(--button-hover-fill-color);\n",
              "  }\n",
              "\n",
              "  .colab-df-quickchart-complete:disabled,\n",
              "  .colab-df-quickchart-complete:disabled:hover {\n",
              "    background-color: var(--disabled-bg-color);\n",
              "    fill: var(--disabled-fill-color);\n",
              "    box-shadow: none;\n",
              "  }\n",
              "\n",
              "  .colab-df-spinner {\n",
              "    border: 2px solid var(--fill-color);\n",
              "    border-color: transparent;\n",
              "    border-bottom-color: var(--fill-color);\n",
              "    animation:\n",
              "      spin 1s steps(1) infinite;\n",
              "  }\n",
              "\n",
              "  @keyframes spin {\n",
              "    0% {\n",
              "      border-color: transparent;\n",
              "      border-bottom-color: var(--fill-color);\n",
              "      border-left-color: var(--fill-color);\n",
              "    }\n",
              "    20% {\n",
              "      border-color: transparent;\n",
              "      border-left-color: var(--fill-color);\n",
              "      border-top-color: var(--fill-color);\n",
              "    }\n",
              "    30% {\n",
              "      border-color: transparent;\n",
              "      border-left-color: var(--fill-color);\n",
              "      border-top-color: var(--fill-color);\n",
              "      border-right-color: var(--fill-color);\n",
              "    }\n",
              "    40% {\n",
              "      border-color: transparent;\n",
              "      border-right-color: var(--fill-color);\n",
              "      border-top-color: var(--fill-color);\n",
              "    }\n",
              "    60% {\n",
              "      border-color: transparent;\n",
              "      border-right-color: var(--fill-color);\n",
              "    }\n",
              "    80% {\n",
              "      border-color: transparent;\n",
              "      border-right-color: var(--fill-color);\n",
              "      border-bottom-color: var(--fill-color);\n",
              "    }\n",
              "    90% {\n",
              "      border-color: transparent;\n",
              "      border-bottom-color: var(--fill-color);\n",
              "    }\n",
              "  }\n",
              "</style>\n",
              "\n",
              "      <script>\n",
              "        async function quickchart(key) {\n",
              "          const quickchartButtonEl =\n",
              "            document.querySelector('#' + key + ' button');\n",
              "          quickchartButtonEl.disabled = true;  // To prevent multiple clicks.\n",
              "          quickchartButtonEl.classList.add('colab-df-spinner');\n",
              "          try {\n",
              "            const charts = await google.colab.kernel.invokeFunction(\n",
              "                'suggestCharts', [key], {});\n",
              "          } catch (error) {\n",
              "            console.error('Error during call to suggestCharts:', error);\n",
              "          }\n",
              "          quickchartButtonEl.classList.remove('colab-df-spinner');\n",
              "          quickchartButtonEl.classList.add('colab-df-quickchart-complete');\n",
              "        }\n",
              "        (() => {\n",
              "          let quickchartButtonEl =\n",
              "            document.querySelector('#df-09aea42e-0c2f-4b65-a1ff-6cda620bfd0b button');\n",
              "          quickchartButtonEl.style.display =\n",
              "            google.colab.kernel.accessAllowed ? 'block' : 'none';\n",
              "        })();\n",
              "      </script>\n",
              "    </div>\n",
              "\n",
              "    </div>\n",
              "  </div>\n"
            ],
            "application/vnd.google.colaboratory.intrinsic+json": {
              "type": "dataframe",
              "summary": "{\n  \"name\": \"base[['LotFrontage', 'MasVnrArea', 'GarageYrBlt']]\",\n  \"rows\": 8,\n  \"fields\": [\n    {\n      \"column\": \"LotFrontage\",\n      \"properties\": {\n        \"dtype\": \"number\",\n        \"std\": 403.3741423824258,\n        \"min\": 21.0,\n        \"max\": 1201.0,\n        \"num_unique_values\": 8,\n        \"samples\": [\n          70.04995836802665,\n          69.0,\n          1201.0\n        ],\n        \"semantic_type\": \"\",\n        \"description\": \"\"\n      }\n    },\n    {\n      \"column\": \"MasVnrArea\",\n      \"properties\": {\n        \"dtype\": \"number\",\n        \"std\": 676.729226667591,\n        \"min\": 0.0,\n        \"max\": 1600.0,\n        \"num_unique_values\": 6,\n        \"samples\": [\n          1452.0,\n          103.68526170798899,\n          1600.0\n        ],\n        \"semantic_type\": \"\",\n        \"description\": \"\"\n      }\n    },\n    {\n      \"column\": \"GarageYrBlt\",\n      \"properties\": {\n        \"dtype\": \"number\",\n        \"std\": 691.2164170774995,\n        \"min\": 24.689724768590214,\n        \"max\": 2010.0,\n        \"num_unique_values\": 8,\n        \"samples\": [\n          1978.5061638868744,\n          1980.0,\n          1379.0\n        ],\n        \"semantic_type\": \"\",\n        \"description\": \"\"\n      }\n    }\n  ]\n}"
            }
          },
          "metadata": {},
          "execution_count": 11
        }
      ]
    },
    {
      "cell_type": "code",
      "metadata": {
        "id": "1e8be74e"
      },
      "source": [
        "num_mis = base[['LotFrontage', 'MasVnrArea', 'GarageYrBlt']]"
      ],
      "execution_count": 12,
      "outputs": []
    },
    {
      "cell_type": "code",
      "source": [
        "display(num_mis.head())"
      ],
      "metadata": {
        "colab": {
          "base_uri": "https://localhost:8080/",
          "height": 206
        },
        "id": "1vh_3YcodRxr",
        "outputId": "ae04d292-0fc7-4ebf-956b-e2074e54e9f5"
      },
      "execution_count": 13,
      "outputs": [
        {
          "output_type": "display_data",
          "data": {
            "text/plain": [
              "   LotFrontage  MasVnrArea  GarageYrBlt\n",
              "0         65.0       196.0       2003.0\n",
              "1         80.0         0.0       1976.0\n",
              "2         68.0       162.0       2001.0\n",
              "3         60.0         0.0       1998.0\n",
              "4         84.0       350.0       2000.0"
            ],
            "text/html": [
              "\n",
              "  <div id=\"df-88e6ce33-5092-48fa-b352-383dccc1e069\" class=\"colab-df-container\">\n",
              "    <div>\n",
              "<style scoped>\n",
              "    .dataframe tbody tr th:only-of-type {\n",
              "        vertical-align: middle;\n",
              "    }\n",
              "\n",
              "    .dataframe tbody tr th {\n",
              "        vertical-align: top;\n",
              "    }\n",
              "\n",
              "    .dataframe thead th {\n",
              "        text-align: right;\n",
              "    }\n",
              "</style>\n",
              "<table border=\"1\" class=\"dataframe\">\n",
              "  <thead>\n",
              "    <tr style=\"text-align: right;\">\n",
              "      <th></th>\n",
              "      <th>LotFrontage</th>\n",
              "      <th>MasVnrArea</th>\n",
              "      <th>GarageYrBlt</th>\n",
              "    </tr>\n",
              "  </thead>\n",
              "  <tbody>\n",
              "    <tr>\n",
              "      <th>0</th>\n",
              "      <td>65.0</td>\n",
              "      <td>196.0</td>\n",
              "      <td>2003.0</td>\n",
              "    </tr>\n",
              "    <tr>\n",
              "      <th>1</th>\n",
              "      <td>80.0</td>\n",
              "      <td>0.0</td>\n",
              "      <td>1976.0</td>\n",
              "    </tr>\n",
              "    <tr>\n",
              "      <th>2</th>\n",
              "      <td>68.0</td>\n",
              "      <td>162.0</td>\n",
              "      <td>2001.0</td>\n",
              "    </tr>\n",
              "    <tr>\n",
              "      <th>3</th>\n",
              "      <td>60.0</td>\n",
              "      <td>0.0</td>\n",
              "      <td>1998.0</td>\n",
              "    </tr>\n",
              "    <tr>\n",
              "      <th>4</th>\n",
              "      <td>84.0</td>\n",
              "      <td>350.0</td>\n",
              "      <td>2000.0</td>\n",
              "    </tr>\n",
              "  </tbody>\n",
              "</table>\n",
              "</div>\n",
              "    <div class=\"colab-df-buttons\">\n",
              "\n",
              "  <div class=\"colab-df-container\">\n",
              "    <button class=\"colab-df-convert\" onclick=\"convertToInteractive('df-88e6ce33-5092-48fa-b352-383dccc1e069')\"\n",
              "            title=\"Convert this dataframe to an interactive table.\"\n",
              "            style=\"display:none;\">\n",
              "\n",
              "  <svg xmlns=\"http://www.w3.org/2000/svg\" height=\"24px\" viewBox=\"0 -960 960 960\">\n",
              "    <path d=\"M120-120v-720h720v720H120Zm60-500h600v-160H180v160Zm220 220h160v-160H400v160Zm0 220h160v-160H400v160ZM180-400h160v-160H180v160Zm440 0h160v-160H620v160ZM180-180h160v-160H180v160Zm440 0h160v-160H620v160Z\"/>\n",
              "  </svg>\n",
              "    </button>\n",
              "\n",
              "  <style>\n",
              "    .colab-df-container {\n",
              "      display:flex;\n",
              "      gap: 12px;\n",
              "    }\n",
              "\n",
              "    .colab-df-convert {\n",
              "      background-color: #E8F0FE;\n",
              "      border: none;\n",
              "      border-radius: 50%;\n",
              "      cursor: pointer;\n",
              "      display: none;\n",
              "      fill: #1967D2;\n",
              "      height: 32px;\n",
              "      padding: 0 0 0 0;\n",
              "      width: 32px;\n",
              "    }\n",
              "\n",
              "    .colab-df-convert:hover {\n",
              "      background-color: #E2EBFA;\n",
              "      box-shadow: 0px 1px 2px rgba(60, 64, 67, 0.3), 0px 1px 3px 1px rgba(60, 64, 67, 0.15);\n",
              "      fill: #174EA6;\n",
              "    }\n",
              "\n",
              "    .colab-df-buttons div {\n",
              "      margin-bottom: 4px;\n",
              "    }\n",
              "\n",
              "    [theme=dark] .colab-df-convert {\n",
              "      background-color: #3B4455;\n",
              "      fill: #D2E3FC;\n",
              "    }\n",
              "\n",
              "    [theme=dark] .colab-df-convert:hover {\n",
              "      background-color: #434B5C;\n",
              "      box-shadow: 0px 1px 3px 1px rgba(0, 0, 0, 0.15);\n",
              "      filter: drop-shadow(0px 1px 2px rgba(0, 0, 0, 0.3));\n",
              "      fill: #FFFFFF;\n",
              "    }\n",
              "  </style>\n",
              "\n",
              "    <script>\n",
              "      const buttonEl =\n",
              "        document.querySelector('#df-88e6ce33-5092-48fa-b352-383dccc1e069 button.colab-df-convert');\n",
              "      buttonEl.style.display =\n",
              "        google.colab.kernel.accessAllowed ? 'block' : 'none';\n",
              "\n",
              "      async function convertToInteractive(key) {\n",
              "        const element = document.querySelector('#df-88e6ce33-5092-48fa-b352-383dccc1e069');\n",
              "        const dataTable =\n",
              "          await google.colab.kernel.invokeFunction('convertToInteractive',\n",
              "                                                    [key], {});\n",
              "        if (!dataTable) return;\n",
              "\n",
              "        const docLinkHtml = 'Like what you see? Visit the ' +\n",
              "          '<a target=\"_blank\" href=https://colab.research.google.com/notebooks/data_table.ipynb>data table notebook</a>'\n",
              "          + ' to learn more about interactive tables.';\n",
              "        element.innerHTML = '';\n",
              "        dataTable['output_type'] = 'display_data';\n",
              "        await google.colab.output.renderOutput(dataTable, element);\n",
              "        const docLink = document.createElement('div');\n",
              "        docLink.innerHTML = docLinkHtml;\n",
              "        element.appendChild(docLink);\n",
              "      }\n",
              "    </script>\n",
              "  </div>\n",
              "\n",
              "\n",
              "    <div id=\"df-16ff0a6c-30d7-48b9-90dd-e65cebffa8eb\">\n",
              "      <button class=\"colab-df-quickchart\" onclick=\"quickchart('df-16ff0a6c-30d7-48b9-90dd-e65cebffa8eb')\"\n",
              "                title=\"Suggest charts\"\n",
              "                style=\"display:none;\">\n",
              "\n",
              "<svg xmlns=\"http://www.w3.org/2000/svg\" height=\"24px\"viewBox=\"0 0 24 24\"\n",
              "     width=\"24px\">\n",
              "    <g>\n",
              "        <path d=\"M19 3H5c-1.1 0-2 .9-2 2v14c0 1.1.9 2 2 2h14c1.1 0 2-.9 2-2V5c0-1.1-.9-2-2-2zM9 17H7v-7h2v7zm4 0h-2V7h2v10zm4 0h-2v-4h2v4z\"/>\n",
              "    </g>\n",
              "</svg>\n",
              "      </button>\n",
              "\n",
              "<style>\n",
              "  .colab-df-quickchart {\n",
              "      --bg-color: #E8F0FE;\n",
              "      --fill-color: #1967D2;\n",
              "      --hover-bg-color: #E2EBFA;\n",
              "      --hover-fill-color: #174EA6;\n",
              "      --disabled-fill-color: #AAA;\n",
              "      --disabled-bg-color: #DDD;\n",
              "  }\n",
              "\n",
              "  [theme=dark] .colab-df-quickchart {\n",
              "      --bg-color: #3B4455;\n",
              "      --fill-color: #D2E3FC;\n",
              "      --hover-bg-color: #434B5C;\n",
              "      --hover-fill-color: #FFFFFF;\n",
              "      --disabled-bg-color: #3B4455;\n",
              "      --disabled-fill-color: #666;\n",
              "  }\n",
              "\n",
              "  .colab-df-quickchart {\n",
              "    background-color: var(--bg-color);\n",
              "    border: none;\n",
              "    border-radius: 50%;\n",
              "    cursor: pointer;\n",
              "    display: none;\n",
              "    fill: var(--fill-color);\n",
              "    height: 32px;\n",
              "    padding: 0;\n",
              "    width: 32px;\n",
              "  }\n",
              "\n",
              "  .colab-df-quickchart:hover {\n",
              "    background-color: var(--hover-bg-color);\n",
              "    box-shadow: 0 1px 2px rgba(60, 64, 67, 0.3), 0 1px 3px 1px rgba(60, 64, 67, 0.15);\n",
              "    fill: var(--button-hover-fill-color);\n",
              "  }\n",
              "\n",
              "  .colab-df-quickchart-complete:disabled,\n",
              "  .colab-df-quickchart-complete:disabled:hover {\n",
              "    background-color: var(--disabled-bg-color);\n",
              "    fill: var(--disabled-fill-color);\n",
              "    box-shadow: none;\n",
              "  }\n",
              "\n",
              "  .colab-df-spinner {\n",
              "    border: 2px solid var(--fill-color);\n",
              "    border-color: transparent;\n",
              "    border-bottom-color: var(--fill-color);\n",
              "    animation:\n",
              "      spin 1s steps(1) infinite;\n",
              "  }\n",
              "\n",
              "  @keyframes spin {\n",
              "    0% {\n",
              "      border-color: transparent;\n",
              "      border-bottom-color: var(--fill-color);\n",
              "      border-left-color: var(--fill-color);\n",
              "    }\n",
              "    20% {\n",
              "      border-color: transparent;\n",
              "      border-left-color: var(--fill-color);\n",
              "      border-top-color: var(--fill-color);\n",
              "    }\n",
              "    30% {\n",
              "      border-color: transparent;\n",
              "      border-left-color: var(--fill-color);\n",
              "      border-top-color: var(--fill-color);\n",
              "      border-right-color: var(--fill-color);\n",
              "    }\n",
              "    40% {\n",
              "      border-color: transparent;\n",
              "      border-right-color: var(--fill-color);\n",
              "      border-top-color: var(--fill-color);\n",
              "    }\n",
              "    60% {\n",
              "      border-color: transparent;\n",
              "      border-right-color: var(--fill-color);\n",
              "    }\n",
              "    80% {\n",
              "      border-color: transparent;\n",
              "      border-right-color: var(--fill-color);\n",
              "      border-bottom-color: var(--fill-color);\n",
              "    }\n",
              "    90% {\n",
              "      border-color: transparent;\n",
              "      border-bottom-color: var(--fill-color);\n",
              "    }\n",
              "  }\n",
              "</style>\n",
              "\n",
              "      <script>\n",
              "        async function quickchart(key) {\n",
              "          const quickchartButtonEl =\n",
              "            document.querySelector('#' + key + ' button');\n",
              "          quickchartButtonEl.disabled = true;  // To prevent multiple clicks.\n",
              "          quickchartButtonEl.classList.add('colab-df-spinner');\n",
              "          try {\n",
              "            const charts = await google.colab.kernel.invokeFunction(\n",
              "                'suggestCharts', [key], {});\n",
              "          } catch (error) {\n",
              "            console.error('Error during call to suggestCharts:', error);\n",
              "          }\n",
              "          quickchartButtonEl.classList.remove('colab-df-spinner');\n",
              "          quickchartButtonEl.classList.add('colab-df-quickchart-complete');\n",
              "        }\n",
              "        (() => {\n",
              "          let quickchartButtonEl =\n",
              "            document.querySelector('#df-16ff0a6c-30d7-48b9-90dd-e65cebffa8eb button');\n",
              "          quickchartButtonEl.style.display =\n",
              "            google.colab.kernel.accessAllowed ? 'block' : 'none';\n",
              "        })();\n",
              "      </script>\n",
              "    </div>\n",
              "\n",
              "    </div>\n",
              "  </div>\n"
            ],
            "application/vnd.google.colaboratory.intrinsic+json": {
              "type": "dataframe",
              "summary": "{\n  \"name\": \"display(num_mis\",\n  \"rows\": 5,\n  \"fields\": [\n    {\n      \"column\": \"LotFrontage\",\n      \"properties\": {\n        \"dtype\": \"number\",\n        \"std\": 10.188228501560024,\n        \"min\": 60.0,\n        \"max\": 84.0,\n        \"num_unique_values\": 5,\n        \"samples\": [\n          80.0,\n          84.0,\n          68.0\n        ],\n        \"semantic_type\": \"\",\n        \"description\": \"\"\n      }\n    },\n    {\n      \"column\": \"MasVnrArea\",\n      \"properties\": {\n        \"dtype\": \"number\",\n        \"std\": 147.40013568514786,\n        \"min\": 0.0,\n        \"max\": 350.0,\n        \"num_unique_values\": 4,\n        \"samples\": [\n          0.0,\n          350.0,\n          196.0\n        ],\n        \"semantic_type\": \"\",\n        \"description\": \"\"\n      }\n    },\n    {\n      \"column\": \"GarageYrBlt\",\n      \"properties\": {\n        \"dtype\": \"number\",\n        \"std\": 11.104053313993049,\n        \"min\": 1976.0,\n        \"max\": 2003.0,\n        \"num_unique_values\": 5,\n        \"samples\": [\n          1976.0,\n          2000.0,\n          2001.0\n        ],\n        \"semantic_type\": \"\",\n        \"description\": \"\"\n      }\n    }\n  ]\n}"
            }
          },
          "metadata": {}
        }
      ]
    },
    {
      "cell_type": "code",
      "metadata": {
        "colab": {
          "base_uri": "https://localhost:8080/",
          "height": 322
        },
        "id": "3e10b9d0",
        "outputId": "34578d52-a166-4805-ee6d-4942f5b99bd8"
      },
      "source": [
        "gifig, axes = plt.subplots(1, 3, figsize=(18, 5))\n",
        "\n",
        "axes[0].hist(num_mis['LotFrontage'].dropna(), bins=30, edgecolor='black')\n",
        "axes[0].set_title('LotFrontage Distribution')\n",
        "\n",
        "axes[1].hist(num_mis['MasVnrArea'].dropna(), bins=30, edgecolor='black')\n",
        "axes[1].set_title('MasVnrArea Distribution')\n",
        "\n",
        "axes[2].hist(num_mis['GarageYrBlt'].dropna(), bins=30, edgecolor='black')\n",
        "axes[2].set_title('GarageYrBlt Distribution')\n",
        "\n",
        "plt.tight_layout()\n",
        "plt.show()"
      ],
      "execution_count": 14,
      "outputs": [
        {
          "output_type": "display_data",
          "data": {
            "text/plain": [
              "<Figure size 1800x500 with 3 Axes>"
            ],
            "image/png": "[encoded data removed]"
          },
          "metadata": {}
        }
      ]
    },
    {
      "cell_type": "code",
      "source": [
        "num_mis.value_counts()"
      ],
      "metadata": {
        "colab": {
          "base_uri": "https://localhost:8080/",
          "height": 489
        },
        "id": "GlQb9p5oSJIL",
        "outputId": "c5980e8c-ad34-4328-c8e8-2141ee347353"
      },
      "execution_count": 15,
      "outputs": [
        {
          "output_type": "execute_result",
          "data": {
            "text/plain": [
              "LotFrontage  MasVnrArea  GarageYrBlt\n",
              "60.0         0.0         1950.0         9\n",
              "                         1920.0         7\n",
              "                         1940.0         7\n",
              "73.0         0.0         2007.0         5\n",
              "60.0         0.0         2005.0         5\n",
              "                                       ..\n",
              "65.0         108.0       2000.0         1\n",
              "             144.0       2002.0         1\n",
              "             196.0       2003.0         1\n",
              "             220.0       1977.0         1\n",
              "             0.0         1996.0         1\n",
              "Name: count, Length: 955, dtype: int64"
            ],
            "text/html": [
              "<div>\n",
              "<style scoped>\n",
              "    .dataframe tbody tr th:only-of-type {\n",
              "        vertical-align: middle;\n",
              "    }\n",
              "\n",
              "    .dataframe tbody tr th {\n",
              "        vertical-align: top;\n",
              "    }\n",
              "\n",
              "    .dataframe thead th {\n",
              "        text-align: right;\n",
              "    }\n",
              "</style>\n",
              "<table border=\"1\" class=\"dataframe\">\n",
              "  <thead>\n",
              "    <tr style=\"text-align: right;\">\n",
              "      <th></th>\n",
              "      <th></th>\n",
              "      <th></th>\n",
              "      <th>count</th>\n",
              "    </tr>\n",
              "    <tr>\n",
              "      <th>LotFrontage</th>\n",
              "      <th>MasVnrArea</th>\n",
              "      <th>GarageYrBlt</th>\n",
              "      <th></th>\n",
              "    </tr>\n",
              "  </thead>\n",
              "  <tbody>\n",
              "    <tr>\n",
              "      <th rowspan=\"3\" valign=\"top\">60.0</th>\n",
              "      <th rowspan=\"3\" valign=\"top\">0.0</th>\n",
              "      <th>1950.0</th>\n",
              "      <td>9</td>\n",
              "    </tr>\n",
              "    <tr>\n",
              "      <th>1920.0</th>\n",
              "      <td>7</td>\n",
              "    </tr>\n",
              "    <tr>\n",
              "      <th>1940.0</th>\n",
              "      <td>7</td>\n",
              "    </tr>\n",
              "    <tr>\n",
              "      <th>73.0</th>\n",
              "      <th>0.0</th>\n",
              "      <th>2007.0</th>\n",
              "      <td>5</td>\n",
              "    </tr>\n",
              "    <tr>\n",
              "      <th>60.0</th>\n",
              "      <th>0.0</th>\n",
              "      <th>2005.0</th>\n",
              "      <td>5</td>\n",
              "    </tr>\n",
              "    <tr>\n",
              "      <th>...</th>\n",
              "      <th>...</th>\n",
              "      <th>...</th>\n",
              "      <td>...</td>\n",
              "    </tr>\n",
              "    <tr>\n",
              "      <th rowspan=\"5\" valign=\"top\">65.0</th>\n",
              "      <th>108.0</th>\n",
              "      <th>2000.0</th>\n",
              "      <td>1</td>\n",
              "    </tr>\n",
              "    <tr>\n",
              "      <th>144.0</th>\n",
              "      <th>2002.0</th>\n",
              "      <td>1</td>\n",
              "    </tr>\n",
              "    <tr>\n",
              "      <th>196.0</th>\n",
              "      <th>2003.0</th>\n",
              "      <td>1</td>\n",
              "    </tr>\n",
              "    <tr>\n",
              "      <th>220.0</th>\n",
              "      <th>1977.0</th>\n",
              "      <td>1</td>\n",
              "    </tr>\n",
              "    <tr>\n",
              "      <th>0.0</th>\n",
              "      <th>1996.0</th>\n",
              "      <td>1</td>\n",
              "    </tr>\n",
              "  </tbody>\n",
              "</table>\n",
              "<p>955 rows × 1 columns</p>\n",
              "</div><br><label><b>dtype:</b> int64</label>"
            ]
          },
          "metadata": {},
          "execution_count": 15
        }
      ]
    },
    {
      "cell_type": "code",
      "metadata": {
        "colab": {
          "base_uri": "https://localhost:8080/",
          "height": 564
        },
        "id": "3e4180e8",
        "outputId": "a1956d61-4085-450d-b75d-939268990ce4"
      },
      "source": [
        "plt.figure(figsize=(10, 6))\n",
        "sns.scatterplot(x='YearBuilt', y='GarageYrBlt', data=base)\n",
        "plt.title('YearBuilt vs GarageYrBlt')\n",
        "plt.xlabel('Year Built')\n",
        "plt.ylabel('Garage Year Built')\n",
        "plt.show()"
      ],
      "execution_count": 16,
      "outputs": [
        {
          "output_type": "display_data",
          "data": {
            "text/plain": [
              "<Figure size 1000x600 with 1 Axes>"
            ],
            "image/png": "[encoded data removed]"
          },
          "metadata": {}
        }
      ]
    },
    {
      "cell_type": "code",
      "metadata": {
        "id": "7d54abe0",
        "outputId": "bd4adee0-ff97-43a2-d493-bea8ad558dab",
        "colab": {
          "base_uri": "https://localhost:8080/"
        }
      },
      "source": [
        "correlation = base['YearBuilt'].corr(base['GarageYrBlt'])\n",
        "print(f\"The correlation between YearBuilt and GarageYrBlt is: {correlation}\")"
      ],
      "execution_count": 17,
      "outputs": [
        {
          "output_type": "stream",
          "name": "stdout",
          "text": [
            "The correlation between YearBuilt and GarageYrBlt is: 0.8256674841743414\n"
          ]
        }
      ]
    },
    {
      "cell_type": "code",
      "source": [
        "known = base[base['GarageYrBlt'].notnull()]\n",
        "unknown = base[base['GarageYrBlt'].isnull()]\n",
        "\n",
        "model = LinearRegression()\n",
        "model.fit(known[['YearBuilt']], known['GarageYrBlt'])\n",
        "\n",
        "base.loc[base['GarageYrBlt'].isnull(), 'GarageYrBlt'] = model.predict(unknown[['YearBuilt']])"
      ],
      "metadata": {
        "id": "szlvcrJIWO7q"
      },
      "execution_count": 18,
      "outputs": []
    },
    {
      "cell_type": "code",
      "source": [
        "base['LotFrontage'] = base['LotFrontage'].fillna(base['LotFrontage'].mean())"
      ],
      "metadata": {
        "id": "UfD8H_sJZ_-P"
      },
      "execution_count": 19,
      "outputs": []
    },
    {
      "cell_type": "code",
      "source": [
        "base['MasVnrArea'] = base['MasVnrArea'].fillna(base['MasVnrArea'].mode()[0])"
      ],
      "metadata": {
        "id": "7AZ_rCtec_PC"
      },
      "execution_count": 20,
      "outputs": []
    },
    {
      "cell_type": "code",
      "source": [
        "missing_values = base[num_col].isnull().sum()\n",
        "missing_values = missing_values[missing_values > 0]\n",
        "print(\"Columns with missing values and their counts:\")\n",
        "print(missing_values)"
      ],
      "metadata": {
        "colab": {
          "base_uri": "https://localhost:8080/"
        },
        "id": "Ko9I4ShFeAp_",
        "outputId": "395c7014-8c66-42b4-a0ba-ea5597721fd8"
      },
      "execution_count": 21,
      "outputs": [
        {
          "output_type": "stream",
          "name": "stdout",
          "text": [
            "Columns with missing values and their counts:\n",
            "Series([], dtype: int64)\n"
          ]
        }
      ]
    },
    {
      "cell_type": "code",
      "source": [
        "missing_values_cat = base[cat_col].isnull().sum()\n",
        "missing_values_cat = missing_values_cat[missing_values_cat > 0]\n",
        "print(\"Columns with missing values and their counts:\")\n",
        "print(missing_values_cat)"
      ],
      "metadata": {
        "colab": {
          "base_uri": "https://localhost:8080/"
        },
        "id": "40KzqEEUeDlB",
        "outputId": "c3f292ad-9ddb-4573-b1bb-377037e59c40"
      },
      "execution_count": 22,
      "outputs": [
        {
          "output_type": "stream",
          "name": "stdout",
          "text": [
            "Columns with missing values and their counts:\n",
            "Alley           1369\n",
            "MasVnrType       872\n",
            "BsmtQual          37\n",
            "BsmtCond          37\n",
            "BsmtExposure      38\n",
            "BsmtFinType1      37\n",
            "BsmtFinType2      38\n",
            "Electrical         1\n",
            "FireplaceQu      690\n",
            "GarageType        81\n",
            "GarageFinish      81\n",
            "GarageQual        81\n",
            "GarageCond        81\n",
            "PoolQC          1453\n",
            "Fence           1179\n",
            "MiscFeature     1406\n",
            "dtype: int64\n"
          ]
        }
      ]
    },
    {
      "cell_type": "code",
      "source": [
        "base['Electrical'].value_counts()"
      ],
      "metadata": {
        "colab": {
          "base_uri": "https://localhost:8080/",
          "height": 272
        },
        "id": "-PDcllCZk7FV",
        "outputId": "50adf3ea-ef60-4d4e-f8ab-26e0b46871c2"
      },
      "execution_count": 23,
      "outputs": [
        {
          "output_type": "execute_result",
          "data": {
            "text/plain": [
              "Electrical\n",
              "SBrkr    1334\n",
              "FuseA      94\n",
              "FuseF      27\n",
              "FuseP       3\n",
              "Mix         1\n",
              "Name: count, dtype: int64"
            ],
            "text/html": [
              "<div>\n",
              "<style scoped>\n",
              "    .dataframe tbody tr th:only-of-type {\n",
              "        vertical-align: middle;\n",
              "    }\n",
              "\n",
              "    .dataframe tbody tr th {\n",
              "        vertical-align: top;\n",
              "    }\n",
              "\n",
              "    .dataframe thead th {\n",
              "        text-align: right;\n",
              "    }\n",
              "</style>\n",
              "<table border=\"1\" class=\"dataframe\">\n",
              "  <thead>\n",
              "    <tr style=\"text-align: right;\">\n",
              "      <th></th>\n",
              "      <th>count</th>\n",
              "    </tr>\n",
              "    <tr>\n",
              "      <th>Electrical</th>\n",
              "      <th></th>\n",
              "    </tr>\n",
              "  </thead>\n",
              "  <tbody>\n",
              "    <tr>\n",
              "      <th>SBrkr</th>\n",
              "      <td>1334</td>\n",
              "    </tr>\n",
              "    <tr>\n",
              "      <th>FuseA</th>\n",
              "      <td>94</td>\n",
              "    </tr>\n",
              "    <tr>\n",
              "      <th>FuseF</th>\n",
              "      <td>27</td>\n",
              "    </tr>\n",
              "    <tr>\n",
              "      <th>FuseP</th>\n",
              "      <td>3</td>\n",
              "    </tr>\n",
              "    <tr>\n",
              "      <th>Mix</th>\n",
              "      <td>1</td>\n",
              "    </tr>\n",
              "  </tbody>\n",
              "</table>\n",
              "</div><br><label><b>dtype:</b> int64</label>"
            ]
          },
          "metadata": {},
          "execution_count": 23
        }
      ]
    },
    {
      "cell_type": "code",
      "source": [
        "fence_m = {'MnPrv': 1, 'GdPrv': 2, 'GdWo': 3, 'MnWw': 4}\n",
        "base['Fence_Encoded'] = base['Fence'].map(fence_m).fillna(0).astype(int)\n",
        "\n",
        "PoolQC_m = {'Ex': 1, 'Gd': 2, 'TA': 3, 'Fa': 4}\n",
        "base['PoolQC_Encoded'] = base['PoolQC'].map(PoolQC_m).fillna(0).astype(int)\n",
        "\n",
        "fireplace_mapping = {'Ex': 5, 'Gd': 4, 'TA': 3, 'Fa': 2, 'Po': 1, 'NA':0 }\n",
        "base['FireplaceQu_Encoded'] = base['FireplaceQu'].map(fireplace_mapping).fillna(0).astype(int)\n",
        "\n",
        "bsmt_qual_mapping = {'Ex': 5, 'Gd': 4, 'TA': 3, 'Fa': 2, 'Po': 1}\n",
        "base['BsmtQual_Encoded'] = base['BsmtQual'].map(bsmt_qual_mapping).fillna(0).astype(int)\n",
        "\n",
        "bsmt_cond_mapping = {'Ex': 5, 'Gd': 4, 'TA': 3, 'Fa': 2, 'Po': 1}\n",
        "base['BsmtCond_Encoded'] = base['BsmtCond'].map(bsmt_cond_mapping).fillna(0).astype(int)\n",
        "\n",
        "bsmt_exposure_mapping = {'Gd': 4, 'Av': 3, 'Mn': 2, 'No': 1}\n",
        "base['BsmtExposure_Encoded'] = base['BsmtExposure'].map(bsmt_exposure_mapping).fillna(0).astype(int)\n",
        "\n",
        "bsmt_fin_type1_mapping = {'GLQ': 6, 'ALQ': 5, 'BLQ': 4, 'Rec': 3, 'LwQ': 2, 'Unf': 1}\n",
        "base['BsmtFinType1_Encoded'] = base['BsmtFinType1'].map(bsmt_fin_type1_mapping).fillna(0).astype(int)\n",
        "\n",
        "bsmt_fin_type2_mapping = {'GLQ': 6, 'ALQ': 5, 'BLQ': 4, 'Rec': 3, 'LwQ': 2, 'Unf': 1}\n",
        "base['BsmtFinType2_Encoded'] = base['BsmtFinType2'].map(bsmt_fin_type2_mapping).fillna(0).astype(int)\n",
        "\n",
        "garage_finish_mapping = {'Fin': 3, 'RFn': 2, 'Unf': 1}\n",
        "base['GarageFinish_Encoded'] = base['GarageFinish'].map(garage_finish_mapping).fillna(0).astype(int)\n",
        "\n",
        "garage_qual_mapping = {'Ex': 5, 'Gd': 4, 'TA': 3, 'Fa': 2, 'Po': 1}\n",
        "base['GarageQual_Encoded'] = base['GarageQual'].map(garage_qual_mapping).fillna(0).astype(int)\n",
        "\n",
        "garage_cond_mapping = {'Ex': 5, 'Gd': 4, 'TA': 3, 'Fa': 2, 'Po': 1}\n",
        "base['GarageCond_Encoded'] = base['GarageCond'].map(garage_cond_mapping).fillna(0).astype(int)\n"
      ],
      "metadata": {
        "id": "5gEtnHb2Vulj"
      },
      "execution_count": 24,
      "outputs": []
    },
    {
      "cell_type": "code",
      "source": [
        "base['Electrical'] = base['Electrical'].fillna(base['Electrical'].mode()[0])\n"
      ],
      "metadata": {
        "id": "dW7RXoOmbQRL"
      },
      "execution_count": 25,
      "outputs": []
    },
    {
      "cell_type": "code",
      "metadata": {
        "collapsed": true,
        "id": "c45a184d"
      },
      "source": [
        "base = pd.get_dummies(base, columns=['MasVnrType', 'MiscFeature', 'GarageType', 'Fence'], prefix=['MasVnrType', 'MiscFeature', 'GarageType', 'Fence'], dummy_na=True)\n"
      ],
      "execution_count": 26,
      "outputs": []
    },
    {
      "cell_type": "code",
      "source": [
        "base = pd.get_dummies(base, columns = ['Alley'], prefix = ['Alley'], dummy_na = True)"
      ],
      "metadata": {
        "id": "3MybrxJQlgTb"
      },
      "execution_count": 27,
      "outputs": []
    },
    {
      "cell_type": "code",
      "metadata": {
        "id": "86985f78"
      },
      "source": [
        "columns_to_drop = ['BsmtQual', 'BsmtCond', 'BsmtExposure',\n",
        "                   'BsmtFinType1', 'BsmtFinType2', 'FireplaceQu',\n",
        "                   'GarageFinish', 'GarageQual', 'GarageCond', 'PoolQC']\n",
        "base = base.drop(columns=columns_to_drop, axis=1)"
      ],
      "execution_count": 28,
      "outputs": []
    },
    {
      "cell_type": "code",
      "source": [
        "cat_col = base.select_dtypes(include=['object', 'category']).columns.tolist()\n",
        "missing_values_cat = base[cat_col].isnull().sum()\n",
        "missing_values_cat = missing_values_cat[missing_values_cat > 0]\n",
        "print(\"Columns with missing values and their counts:\")\n",
        "print(missing_values_cat)"
      ],
      "metadata": {
        "colab": {
          "base_uri": "https://localhost:8080/"
        },
        "id": "1rseO-XilKbU",
        "outputId": "8a4073ac-694b-49fb-db67-1095c828dfe3"
      },
      "execution_count": 29,
      "outputs": [
        {
          "output_type": "stream",
          "name": "stdout",
          "text": [
            "Columns with missing values and their counts:\n",
            "Series([], dtype: int64)\n"
          ]
        }
      ]
    },
    {
      "cell_type": "code",
      "metadata": {
        "id": "fc8c9141"
      },
      "source": [
        "columns_for_onehot = ['PavedDrive', 'CentralAir', 'Heating', 'Foundation',\n",
        "                      'Exterior1st', 'Exterior2nd', 'RoofMatl', 'RoofStyle',\n",
        "                      'Condition1', 'Condition2', 'Neighborhood', 'Street',\n",
        "                      'MSZoning', 'MSSubClass', 'BldgType']\n",
        "\n",
        "base = pd.get_dummies(base, columns=columns_for_onehot, dummy_na=False)\n"
      ],
      "execution_count": 30,
      "outputs": []
    },
    {
      "cell_type": "code",
      "metadata": {
        "colab": {
          "base_uri": "https://localhost:8080/",
          "height": 255
        },
        "id": "e567f87c",
        "outputId": "30925b4b-ce05-42bc-d1d7-8cf3fd2fffd5"
      },
      "source": [
        "# Label Encoding for Functional, KitchenQual, HeatingQC, ExterCond, ExterQual, LandSlope, LotConfig, Utilities, LandContour, Lotshape, HouseStyle\n",
        "functional_mapping = {'Typ': 7, 'Min1': 6, 'Min2': 5, 'Mod': 4, 'Maj1': 3, 'Maj2': 2, 'Sev': 1}\n",
        "base['Functional_Encoded'] = base['Functional'].map(functional_mapping).fillna(0).astype(int)\n",
        "\n",
        "kitchenqual_mapping = {'Ex': 4, 'Gd': 3, 'TA': 2, 'Fa': 1, 'Po': 0}\n",
        "base['KitchenQual_Encoded'] = base['KitchenQual'].map(kitchenqual_mapping).fillna(0).astype(int)\n",
        "\n",
        "heatingqc_mapping = {'Ex': 4, 'Gd': 3, 'TA': 2, 'Fa': 1, 'Po': 0}\n",
        "base['HeatingQC_Encoded'] = base['HeatingQC'].map(heatingqc_mapping).fillna(0).astype(int)\n",
        "\n",
        "extercond_mapping = {'Ex': 4, 'Gd': 3, 'TA': 2, 'Fa': 1, 'Po': 0}\n",
        "base['ExterCond_Encoded'] = base['ExterCond'].map(extercond_mapping).fillna(0).astype(int)\n",
        "\n",
        "exterqual_mapping = {'Ex': 4, 'Gd': 3, 'TA': 2, 'Fa': 1, 'Po': 0}\n",
        "base['ExterQual_Encoded'] = base['ExterQual'].map(exterqual_mapping).fillna(0).astype(int)\n",
        "\n",
        "landcontour_mapping = {'Lvl': 3, 'Bnk': 2, 'HLS': 1, 'Low': 0}\n",
        "base['LandContour_Encoded'] = base['LandContour'].map(landcontour_mapping).fillna(0).astype(int)\n",
        "\n",
        "lotshape_mapping = {'Reg': 3, 'IR1': 2, 'IR2': 1, 'IR3': 0}\n",
        "base['LotShape_Encoded'] = base['LotShape'].map(lotshape_mapping).fillna(0).astype(int)\n",
        "\n",
        "utilities_mapping = {'AllPub': 3, 'NoSewr': 2, 'NoSeWa': 1, 'ELO': 0}\n",
        "base['Utilities_Encoded'] = base['Utilities'].map(utilities_mapping).fillna(0).astype(int)\n",
        "\n",
        "landslope_mapping = {'Gtl': 2, 'Mod': 1, 'Sev': 0}\n",
        "base['LandSlope_Encoded'] = base['LandSlope'].map(landslope_mapping).fillna(0).astype(int)\n",
        "\n",
        "lotconfig_mapping = {'Inside': 4, 'Corner': 3, 'CulDSac': 2, 'FR2': 1, 'FR3': 0}\n",
        "base['LotConfig_Encoded'] = base['LotConfig'].map(lotconfig_mapping).fillna(0).astype(int)\n",
        "\n",
        "housestyle_mapping = {'1Story': 7, '1.5Fin': 6, '1.5Unf': 5, '2Story': 4, '2.5Fin': 3, '2.5Unf': 2, 'SFoyer': 1, 'SLvl': 0}\n",
        "base['HouseStyle_Encoded'] = base['HouseStyle'].map(housestyle_mapping).fillna(0).astype(int)\n",
        "\n",
        "\n",
        "# Drop original columns\n",
        "columns_to_drop = ['Functional', 'KitchenQual', 'HeatingQC', 'ExterCond', 'ExterQual', 'LandSlope', 'LotConfig', 'Utilities', 'LandContour', 'LotShape', 'HouseStyle']\n",
        "base = base.drop(columns=columns_to_drop, axis=1)\n",
        "\n",
        "display(base.head())"
      ],
      "execution_count": 31,
      "outputs": [
        {
          "output_type": "display_data",
          "data": {
            "text/plain": [
              "   LotFrontage  LotArea  OverallQual  OverallCond  YearBuilt  YearRemodAdd  \\\n",
              "0         65.0     8450            7            5       2003          2003   \n",
              "1         80.0     9600            6            8       1976          1976   \n",
              "2         68.0    11250            7            5       2001          2002   \n",
              "3         60.0     9550            7            5       1915          1970   \n",
              "4         84.0    14260            8            5       2000          2000   \n",
              "\n",
              "   MasVnrArea  BsmtFinSF1  BsmtFinSF2  BsmtUnfSF  ...  KitchenQual_Encoded  \\\n",
              "0       196.0         706           0        150  ...                    3   \n",
              "1         0.0         978           0        284  ...                    2   \n",
              "2       162.0         486           0        434  ...                    3   \n",
              "3         0.0         216           0        540  ...                    3   \n",
              "4       350.0         655           0        490  ...                    3   \n",
              "\n",
              "  HeatingQC_Encoded  ExterCond_Encoded  ExterQual_Encoded  \\\n",
              "0                 4                  2                  3   \n",
              "1                 4                  2                  2   \n",
              "2                 4                  2                  3   \n",
              "3                 3                  2                  2   \n",
              "4                 4                  2                  3   \n",
              "\n",
              "   LandContour_Encoded  LotShape_Encoded  Utilities_Encoded  \\\n",
              "0                    3                 3                  3   \n",
              "1                    3                 3                  3   \n",
              "2                    3                 2                  3   \n",
              "3                    3                 2                  3   \n",
              "4                    3                 2                  3   \n",
              "\n",
              "   LandSlope_Encoded  LotConfig_Encoded  HouseStyle_Encoded  \n",
              "0                  2                  4                   4  \n",
              "1                  2                  1                   7  \n",
              "2                  2                  4                   4  \n",
              "3                  2                  3                   4  \n",
              "4                  2                  1                   4  \n",
              "\n",
              "[5 rows x 216 columns]"
            ],
            "text/html": [
              "\n",
              "  <div id=\"df-0e5b708a-a6c2-419b-ad3e-1510e4d0b68f\" class=\"colab-df-container\">\n",
              "    <div>\n",
              "<style scoped>\n",
              "    .dataframe tbody tr th:only-of-type {\n",
              "        vertical-align: middle;\n",
              "    }\n",
              "\n",
              "    .dataframe tbody tr th {\n",
              "        vertical-align: top;\n",
              "    }\n",
              "\n",
              "    .dataframe thead th {\n",
              "        text-align: right;\n",
              "    }\n",
              "</style>\n",
              "<table border=\"1\" class=\"dataframe\">\n",
              "  <thead>\n",
              "    <tr style=\"text-align: right;\">\n",
              "      <th></th>\n",
              "      <th>LotFrontage</th>\n",
              "      <th>LotArea</th>\n",
              "      <th>OverallQual</th>\n",
              "      <th>OverallCond</th>\n",
              "      <th>YearBuilt</th>\n",
              "      <th>YearRemodAdd</th>\n",
              "      <th>MasVnrArea</th>\n",
              "      <th>BsmtFinSF1</th>\n",
              "      <th>BsmtFinSF2</th>\n",
              "      <th>BsmtUnfSF</th>\n",
              "      <th>...</th>\n",
              "      <th>KitchenQual_Encoded</th>\n",
              "      <th>HeatingQC_Encoded</th>\n",
              "      <th>ExterCond_Encoded</th>\n",
              "      <th>ExterQual_Encoded</th>\n",
              "      <th>LandContour_Encoded</th>\n",
              "      <th>LotShape_Encoded</th>\n",
              "      <th>Utilities_Encoded</th>\n",
              "      <th>LandSlope_Encoded</th>\n",
              "      <th>LotConfig_Encoded</th>\n",
              "      <th>HouseStyle_Encoded</th>\n",
              "    </tr>\n",
              "  </thead>\n",
              "  <tbody>\n",
              "    <tr>\n",
              "      <th>0</th>\n",
              "      <td>65.0</td>\n",
              "      <td>8450</td>\n",
              "      <td>7</td>\n",
              "      <td>5</td>\n",
              "      <td>2003</td>\n",
              "      <td>2003</td>\n",
              "      <td>196.0</td>\n",
              "      <td>706</td>\n",
              "      <td>0</td>\n",
              "      <td>150</td>\n",
              "      <td>...</td>\n",
              "      <td>3</td>\n",
              "      <td>4</td>\n",
              "      <td>2</td>\n",
              "      <td>3</td>\n",
              "      <td>3</td>\n",
              "      <td>3</td>\n",
              "      <td>3</td>\n",
              "      <td>2</td>\n",
              "      <td>4</td>\n",
              "      <td>4</td>\n",
              "    </tr>\n",
              "    <tr>\n",
              "      <th>1</th>\n",
              "      <td>80.0</td>\n",
              "      <td>9600</td>\n",
              "      <td>6</td>\n",
              "      <td>8</td>\n",
              "      <td>1976</td>\n",
              "      <td>1976</td>\n",
              "      <td>0.0</td>\n",
              "      <td>978</td>\n",
              "      <td>0</td>\n",
              "      <td>284</td>\n",
              "      <td>...</td>\n",
              "      <td>2</td>\n",
              "      <td>4</td>\n",
              "      <td>2</td>\n",
              "      <td>2</td>\n",
              "      <td>3</td>\n",
              "      <td>3</td>\n",
              "      <td>3</td>\n",
              "      <td>2</td>\n",
              "      <td>1</td>\n",
              "      <td>7</td>\n",
              "    </tr>\n",
              "    <tr>\n",
              "      <th>2</th>\n",
              "      <td>68.0</td>\n",
              "      <td>11250</td>\n",
              "      <td>7</td>\n",
              "      <td>5</td>\n",
              "      <td>2001</td>\n",
              "      <td>2002</td>\n",
              "      <td>162.0</td>\n",
              "      <td>486</td>\n",
              "      <td>0</td>\n",
              "      <td>434</td>\n",
              "      <td>...</td>\n",
              "      <td>3</td>\n",
              "      <td>4</td>\n",
              "      <td>2</td>\n",
              "      <td>3</td>\n",
              "      <td>3</td>\n",
              "      <td>2</td>\n",
              "      <td>3</td>\n",
              "      <td>2</td>\n",
              "      <td>4</td>\n",
              "      <td>4</td>\n",
              "    </tr>\n",
              "    <tr>\n",
              "      <th>3</th>\n",
              "      <td>60.0</td>\n",
              "      <td>9550</td>\n",
              "      <td>7</td>\n",
              "      <td>5</td>\n",
              "      <td>1915</td>\n",
              "      <td>1970</td>\n",
              "      <td>0.0</td>\n",
              "      <td>216</td>\n",
              "      <td>0</td>\n",
              "      <td>540</td>\n",
              "      <td>...</td>\n",
              "      <td>3</td>\n",
              "      <td>3</td>\n",
              "      <td>2</td>\n",
              "      <td>2</td>\n",
              "      <td>3</td>\n",
              "      <td>2</td>\n",
              "      <td>3</td>\n",
              "      <td>2</td>\n",
              "      <td>3</td>\n",
              "      <td>4</td>\n",
              "    </tr>\n",
              "    <tr>\n",
              "      <th>4</th>\n",
              "      <td>84.0</td>\n",
              "      <td>14260</td>\n",
              "      <td>8</td>\n",
              "      <td>5</td>\n",
              "      <td>2000</td>\n",
              "      <td>2000</td>\n",
              "      <td>350.0</td>\n",
              "      <td>655</td>\n",
              "      <td>0</td>\n",
              "      <td>490</td>\n",
              "      <td>...</td>\n",
              "      <td>3</td>\n",
              "      <td>4</td>\n",
              "      <td>2</td>\n",
              "      <td>3</td>\n",
              "      <td>3</td>\n",
              "      <td>2</td>\n",
              "      <td>3</td>\n",
              "      <td>2</td>\n",
              "      <td>1</td>\n",
              "      <td>4</td>\n",
              "    </tr>\n",
              "  </tbody>\n",
              "</table>\n",
              "<p>5 rows × 216 columns</p>\n",
              "</div>\n",
              "    <div class=\"colab-df-buttons\">\n",
              "\n",
              "  <div class=\"colab-df-container\">\n",
              "    <button class=\"colab-df-convert\" onclick=\"convertToInteractive('df-0e5b708a-a6c2-419b-ad3e-1510e4d0b68f')\"\n",
              "            title=\"Convert this dataframe to an interactive table.\"\n",
              "            style=\"display:none;\">\n",
              "\n",
              "  <svg xmlns=\"http://www.w3.org/2000/svg\" height=\"24px\" viewBox=\"0 -960 960 960\">\n",
              "    <path d=\"M120-120v-720h720v720H120Zm60-500h600v-160H180v160Zm220 220h160v-160H400v160Zm0 220h160v-160H400v160ZM180-400h160v-160H180v160Zm440 0h160v-160H620v160ZM180-180h160v-160H180v160Zm440 0h160v-160H620v160Z\"/>\n",
              "  </svg>\n",
              "    </button>\n",
              "\n",
              "  <style>\n",
              "    .colab-df-container {\n",
              "      display:flex;\n",
              "      gap: 12px;\n",
              "    }\n",
              "\n",
              "    .colab-df-convert {\n",
              "      background-color: #E8F0FE;\n",
              "      border: none;\n",
              "      border-radius: 50%;\n",
              "      cursor: pointer;\n",
              "      display: none;\n",
              "      fill: #1967D2;\n",
              "      height: 32px;\n",
              "      padding: 0 0 0 0;\n",
              "      width: 32px;\n",
              "    }\n",
              "\n",
              "    .colab-df-convert:hover {\n",
              "      background-color: #E2EBFA;\n",
              "      box-shadow: 0px 1px 2px rgba(60, 64, 67, 0.3), 0px 1px 3px 1px rgba(60, 64, 67, 0.15);\n",
              "      fill: #174EA6;\n",
              "    }\n",
              "\n",
              "    .colab-df-buttons div {\n",
              "      margin-bottom: 4px;\n",
              "    }\n",
              "\n",
              "    [theme=dark] .colab-df-convert {\n",
              "      background-color: #3B4455;\n",
              "      fill: #D2E3FC;\n",
              "    }\n",
              "\n",
              "    [theme=dark] .colab-df-convert:hover {\n",
              "      background-color: #434B5C;\n",
              "      box-shadow: 0px 1px 3px 1px rgba(0, 0, 0, 0.15);\n",
              "      filter: drop-shadow(0px 1px 2px rgba(0, 0, 0, 0.3));\n",
              "      fill: #FFFFFF;\n",
              "    }\n",
              "  </style>\n",
              "\n",
              "    <script>\n",
              "      const buttonEl =\n",
              "        document.querySelector('#df-0e5b708a-a6c2-419b-ad3e-1510e4d0b68f button.colab-df-convert');\n",
              "      buttonEl.style.display =\n",
              "        google.colab.kernel.accessAllowed ? 'block' : 'none';\n",
              "\n",
              "      async function convertToInteractive(key) {\n",
              "        const element = document.querySelector('#df-0e5b708a-a6c2-419b-ad3e-1510e4d0b68f');\n",
              "        const dataTable =\n",
              "          await google.colab.kernel.invokeFunction('convertToInteractive',\n",
              "                                                    [key], {});\n",
              "        if (!dataTable) return;\n",
              "\n",
              "        const docLinkHtml = 'Like what you see? Visit the ' +\n",
              "          '<a target=\"_blank\" href=https://colab.research.google.com/notebooks/data_table.ipynb>data table notebook</a>'\n",
              "          + ' to learn more about interactive tables.';\n",
              "        element.innerHTML = '';\n",
              "        dataTable['output_type'] = 'display_data';\n",
              "        await google.colab.output.renderOutput(dataTable, element);\n",
              "        const docLink = document.createElement('div');\n",
              "        docLink.innerHTML = docLinkHtml;\n",
              "        element.appendChild(docLink);\n",
              "      }\n",
              "    </script>\n",
              "  </div>\n",
              "\n",
              "\n",
              "    <div id=\"df-2095a09e-6ab7-429f-8fce-fb54c37a85e5\">\n",
              "      <button class=\"colab-df-quickchart\" onclick=\"quickchart('df-2095a09e-6ab7-429f-8fce-fb54c37a85e5')\"\n",
              "                title=\"Suggest charts\"\n",
              "                style=\"display:none;\">\n",
              "\n",
              "<svg xmlns=\"http://www.w3.org/2000/svg\" height=\"24px\"viewBox=\"0 0 24 24\"\n",
              "     width=\"24px\">\n",
              "    <g>\n",
              "        <path d=\"M19 3H5c-1.1 0-2 .9-2 2v14c0 1.1.9 2 2 2h14c1.1 0 2-.9 2-2V5c0-1.1-.9-2-2-2zM9 17H7v-7h2v7zm4 0h-2V7h2v10zm4 0h-2v-4h2v4z\"/>\n",
              "    </g>\n",
              "</svg>\n",
              "      </button>\n",
              "\n",
              "<style>\n",
              "  .colab-df-quickchart {\n",
              "      --bg-color: #E8F0FE;\n",
              "      --fill-color: #1967D2;\n",
              "      --hover-bg-color: #E2EBFA;\n",
              "      --hover-fill-color: #174EA6;\n",
              "      --disabled-fill-color: #AAA;\n",
              "      --disabled-bg-color: #DDD;\n",
              "  }\n",
              "\n",
              "  [theme=dark] .colab-df-quickchart {\n",
              "      --bg-color: #3B4455;\n",
              "      --fill-color: #D2E3FC;\n",
              "      --hover-bg-color: #434B5C;\n",
              "      --hover-fill-color: #FFFFFF;\n",
              "      --disabled-bg-color: #3B4455;\n",
              "      --disabled-fill-color: #666;\n",
              "  }\n",
              "\n",
              "  .colab-df-quickchart {\n",
              "    background-color: var(--bg-color);\n",
              "    border: none;\n",
              "    border-radius: 50%;\n",
              "    cursor: pointer;\n",
              "    display: none;\n",
              "    fill: var(--fill-color);\n",
              "    height: 32px;\n",
              "    padding: 0;\n",
              "    width: 32px;\n",
              "  }\n",
              "\n",
              "  .colab-df-quickchart:hover {\n",
              "    background-color: var(--hover-bg-color);\n",
              "    box-shadow: 0 1px 2px rgba(60, 64, 67, 0.3), 0 1px 3px 1px rgba(60, 64, 67, 0.15);\n",
              "    fill: var(--button-hover-fill-color);\n",
              "  }\n",
              "\n",
              "  .colab-df-quickchart-complete:disabled,\n",
              "  .colab-df-quickchart-complete:disabled:hover {\n",
              "    background-color: var(--disabled-bg-color);\n",
              "    fill: var(--disabled-fill-color);\n",
              "    box-shadow: none;\n",
              "  }\n",
              "\n",
              "  .colab-df-spinner {\n",
              "    border: 2px solid var(--fill-color);\n",
              "    border-color: transparent;\n",
              "    border-bottom-color: var(--fill-color);\n",
              "    animation:\n",
              "      spin 1s steps(1) infinite;\n",
              "  }\n",
              "\n",
              "  @keyframes spin {\n",
              "    0% {\n",
              "      border-color: transparent;\n",
              "      border-bottom-color: var(--fill-color);\n",
              "      border-left-color: var(--fill-color);\n",
              "    }\n",
              "    20% {\n",
              "      border-color: transparent;\n",
              "      border-left-color: var(--fill-color);\n",
              "      border-top-color: var(--fill-color);\n",
              "    }\n",
              "    30% {\n",
              "      border-color: transparent;\n",
              "      border-left-color: var(--fill-color);\n",
              "      border-top-color: var(--fill-color);\n",
              "      border-right-color: var(--fill-color);\n",
              "    }\n",
              "    40% {\n",
              "      border-color: transparent;\n",
              "      border-right-color: var(--fill-color);\n",
              "      border-top-color: var(--fill-color);\n",
              "    }\n",
              "    60% {\n",
              "      border-color: transparent;\n",
              "      border-right-color: var(--fill-color);\n",
              "    }\n",
              "    80% {\n",
              "      border-color: transparent;\n",
              "      border-right-color: var(--fill-color);\n",
              "      border-bottom-color: var(--fill-color);\n",
              "    }\n",
              "    90% {\n",
              "      border-color: transparent;\n",
              "      border-bottom-color: var(--fill-color);\n",
              "    }\n",
              "  }\n",
              "</style>\n",
              "\n",
              "      <script>\n",
              "        async function quickchart(key) {\n",
              "          const quickchartButtonEl =\n",
              "            document.querySelector('#' + key + ' button');\n",
              "          quickchartButtonEl.disabled = true;  // To prevent multiple clicks.\n",
              "          quickchartButtonEl.classList.add('colab-df-spinner');\n",
              "          try {\n",
              "            const charts = await google.colab.kernel.invokeFunction(\n",
              "                'suggestCharts', [key], {});\n",
              "          } catch (error) {\n",
              "            console.error('Error during call to suggestCharts:', error);\n",
              "          }\n",
              "          quickchartButtonEl.classList.remove('colab-df-spinner');\n",
              "          quickchartButtonEl.classList.add('colab-df-quickchart-complete');\n",
              "        }\n",
              "        (() => {\n",
              "          let quickchartButtonEl =\n",
              "            document.querySelector('#df-2095a09e-6ab7-429f-8fce-fb54c37a85e5 button');\n",
              "          quickchartButtonEl.style.display =\n",
              "            google.colab.kernel.accessAllowed ? 'block' : 'none';\n",
              "        })();\n",
              "      </script>\n",
              "    </div>\n",
              "\n",
              "    </div>\n",
              "  </div>\n"
            ],
            "application/vnd.google.colaboratory.intrinsic+json": {
              "type": "dataframe"
            }
          },
          "metadata": {}
        }
      ]
    },
    {
      "cell_type": "code",
      "metadata": {
        "id": "71ead0cc"
      },
      "source": [
        "base = pd.get_dummies(base, columns=['Electrical'], prefix='Electrical', dummy_na=False)"
      ],
      "execution_count": 32,
      "outputs": []
    },
    {
      "cell_type": "code",
      "source": [
        "base = pd.get_dummies(base, columns=['SaleType'], prefix='SaleType', dummy_na=False)\n",
        "base = pd.get_dummies(base, columns=['SaleCondition'], prefix='SaleCondition', dummy_na=False)"
      ],
      "metadata": {
        "id": "PYzt0Dvjtvno"
      },
      "execution_count": 33,
      "outputs": []
    },
    {
      "cell_type": "code",
      "source": [
        "base.info()"
      ],
      "metadata": {
        "colab": {
          "base_uri": "https://localhost:8080/"
        },
        "id": "EtoAj3zQt63W",
        "outputId": "a476fc08-0398-4cd1-bf6c-4782635595ec"
      },
      "execution_count": 34,
      "outputs": [
        {
          "output_type": "stream",
          "name": "stdout",
          "text": [
            "<class 'pandas.core.frame.DataFrame'>\n",
            "RangeIndex: 1460 entries, 0 to 1459\n",
            "Columns: 233 entries, LotFrontage to SaleCondition_Partial\n",
            "dtypes: bool(175), float64(3), int64(55)\n",
            "memory usage: 911.2 KB\n"
          ]
        }
      ]
    },
    {
      "cell_type": "code",
      "source": [
        "base['Age'] = base['YrSold'] - base['YearBuilt']\n",
        "base['RemodAge'] = base['YrSold'] - base['YearRemodAdd']\n",
        "base['GarageAge'] = base['YrSold'] - base['GarageYrBlt']"
      ],
      "metadata": {
        "id": "jPcy5IHouJ2T"
      },
      "execution_count": 35,
      "outputs": []
    },
    {
      "cell_type": "code",
      "source": [
        "num_cols = base.select_dtypes(include=['int64', 'float64']).columns.tolist()"
      ],
      "metadata": {
        "id": "jF-oAH2WuzLG"
      },
      "execution_count": 36,
      "outputs": []
    },
    {
      "cell_type": "code",
      "source": [
        "scaler = StandardScaler()\n",
        "base[num_cols] = scaler.fit_transform(base[num_cols])"
      ],
      "metadata": {
        "id": "UAeuLbcwulNB"
      },
      "execution_count": 37,
      "outputs": []
    },
    {
      "cell_type": "code",
      "source": [
        "basen = base.copy()"
      ],
      "metadata": {
        "id": "exZS4Jpvp_Ru"
      },
      "execution_count": 38,
      "outputs": []
    },
    {
      "cell_type": "code",
      "source": [
        "basen.drop(['YearBuilt', 'YrSold', 'YearRemodAdd', 'GarageYrBlt'], axis=1, inplace=True)"
      ],
      "metadata": {
        "id": "O5wTANovqOxu"
      },
      "execution_count": 39,
      "outputs": []
    },
    {
      "cell_type": "code",
      "source": [
        "# basen['Overall_Rating'] = basen['OverallQual'] + basen['OverallCond']\n",
        "# basen['Exter_Rating'] = basen['ExterQual_Encoded'] +  basen['ExterCond_Encoded']\n",
        "# basen['Garage_Rating'] = basen['GarageQual_Encoded'] + basen['GarageCond_Encoded']\n",
        "\n",
        "# # basen.drop(['GarageQual_Encoded', 'GarageCond_Encoded', 'ExterQual_Encoded', 'ExterCond_Encoded', 'OverallQual', 'OverallCond', 'FullBath', 'HalfBath', 'BsmtFullBath', 'BsmtHalfBath'], axis=1, inplace=True)"
      ],
      "metadata": {
        "id": "xCh6AmfCq1_0"
      },
      "execution_count": 40,
      "outputs": []
    },
    {
      "cell_type": "markdown",
      "source": [
        "# Training Machine Learning models and Evaluating them"
      ],
      "metadata": {
        "id": "BZdynEf8fnGa"
      }
    },
    {
      "cell_type": "code",
      "metadata": {
        "id": "7aabec29"
      },
      "source": [
        "from sklearn.metrics import mean_squared_error, r2_score, mean_absolute_error, max_error, mean_squared_log_error, median_absolute_error"
      ],
      "execution_count": 41,
      "outputs": []
    },
    {
      "cell_type": "code",
      "source": [
        "X = basen"
      ],
      "metadata": {
        "id": "IBISLao6x1XV"
      },
      "execution_count": 42,
      "outputs": []
    },
    {
      "cell_type": "code",
      "source": [
        "basen = basen.copy()\n",
        "\n",
        "X = basen.drop('SalePrice', axis=1)\n",
        "y = basen['SalePrice']\n",
        "\n",
        "from sklearn.model_selection import train_test_split\n",
        "X_train, X_test, y_train, y_test = train_test_split(\n",
        "    X, y, test_size=0.2, random_state=42\n",
        ")\n",
        "\n",
        "model.fit(X_train, y_train)\n",
        "\n",
        "y_pred = model.predict(X_test)\n",
        "print(mean_squared_error(y_test, y_pred))\n",
        "print(r2_score(y_test, y_pred))\n"
      ],
      "metadata": {
        "colab": {
          "base_uri": "https://localhost:8080/"
        },
        "id": "HiBCOXXfwIvs",
        "outputId": "fd3699bf-be8d-447b-d935-ae73ca616823"
      },
      "execution_count": 43,
      "outputs": [
        {
          "output_type": "stream",
          "name": "stdout",
          "text": [
            "0.14080258449763358\n",
            "0.884227592319961\n"
          ]
        }
      ]
    },
    {
      "cell_type": "code",
      "source": [
        "y_pred = np.maximum(0, y_pred)"
      ],
      "metadata": {
        "id": "zIHxfXMxe3MS"
      },
      "execution_count": 44,
      "outputs": []
    },
    {
      "cell_type": "code",
      "metadata": {
        "colab": {
          "base_uri": "https://localhost:8080/"
        },
        "id": "a85a4afa",
        "outputId": "7374d3d1-af4f-4730-c667-c4ec0f4ddb3e"
      },
      "source": [
        "from sklearn.metrics import r2_score\n",
        "import numpy as np\n",
        "\n",
        "r2 = r2_score(y_test, y_pred)\n",
        "n = X_train.shape[0]\n",
        "p = X_train.shape[1]\n",
        "\n",
        "adjusted_r2 = 1 - (1 - r2) * (n - 1) / (n - p - 1)\n",
        "print(f\"Adjusted R-squared: {adjusted_r2}\")"
      ],
      "execution_count": 45,
      "outputs": [
        {
          "output_type": "stream",
          "name": "stdout",
          "text": [
            "Adjusted R-squared: 0.5412337102339334\n"
          ]
        }
      ]
    },
    {
      "cell_type": "code",
      "source": [
        "from sklearn.linear_model import Lasso\n",
        "\n",
        "lasso_model = Lasso(alpha=0.00035)\n",
        "lasso_model.fit(X_train, y_train)\n",
        "\n",
        "y_pred_lasso = lasso_model.predict(X_test)\n",
        "\n",
        "mse_lasso = mean_squared_error(y_test, y_pred_lasso)\n",
        "r2_lasso = r2_score(y_test, y_pred_lasso)\n",
        "\n",
        "print(f\"Mean Squared Error (MSE) for Lasso: {mse_lasso}\")\n",
        "print(f\"R-squared (R2) for Lasso: {r2_lasso}\")\n"
      ],
      "metadata": {
        "colab": {
          "base_uri": "https://localhost:8080/"
        },
        "id": "E_qy8FR0rXKC",
        "outputId": "475ae105-164e-4a6d-93a7-77c359bc8e58"
      },
      "execution_count": 46,
      "outputs": [
        {
          "output_type": "stream",
          "name": "stdout",
          "text": [
            "Mean Squared Error (MSE) for Lasso: 0.12788193218338217\n",
            "R-squared (R2) for Lasso: 0.8948513676757514\n"
          ]
        }
      ]
    },
    {
      "cell_type": "code",
      "source": [
        "import matplotlib.pyplot as plt\n",
        "from sklearn.tree import DecisionTreeRegressor\n",
        "\n",
        "dt_model = DecisionTreeRegressor(random_state=2)\n",
        "dt_model.fit(X_train, y_train)\n",
        "\n",
        "y_pred_dt = dt_model.predict(X_test)\n",
        "\n",
        "mse_dt = mean_squared_error(y_test, y_pred_dt)\n",
        "r2_dt = r2_score(y_test, y_pred_dt)\n",
        "\n",
        "print(f\"Decision Tree Regression Mean Squared Error: {mse_dt}\")\n",
        "print(f\"Decision Tree Regression R-squared: {r2_dt}\")"
      ],
      "metadata": {
        "colab": {
          "base_uri": "https://localhost:8080/"
        },
        "id": "l6wK-Hgzr1zR",
        "outputId": "fd717e45-ddb4-4911-ae5e-b13967ed456d"
      },
      "execution_count": 47,
      "outputs": [
        {
          "output_type": "stream",
          "name": "stdout",
          "text": [
            "Decision Tree Regression Mean Squared Error: 0.2449625600886111\n",
            "Decision Tree Regression R-squared: 0.7985839146766416\n"
          ]
        }
      ]
    },
    {
      "cell_type": "code",
      "metadata": {
        "colab": {
          "base_uri": "https://localhost:8080/"
        },
        "id": "916cbccf",
        "outputId": "cfbcebf3-d0e0-45e1-b455-2092fa29da73"
      },
      "source": [
        "from sklearn.linear_model import SGDRegressor\n",
        "\n",
        "sgd_model = SGDRegressor(random_state=5)\n",
        "sgd_model.fit(X_train, y_train)\n",
        "\n",
        "y_pred_sgd = sgd_model.predict(X_test)\n",
        "\n",
        "mse_sgd = mean_squared_error(y_test, y_pred_sgd)\n",
        "r2_sgd = r2_score(y_test, y_pred_sgd)\n",
        "\n",
        "print(f\"SGD Regressor Mean Squared Error: {mse_sgd}\")\n",
        "print(f\"SGD Regressor R-squared: {r2_sgd}\")"
      ],
      "execution_count": 48,
      "outputs": [
        {
          "output_type": "stream",
          "name": "stdout",
          "text": [
            "SGD Regressor Mean Squared Error: 0.16738187112881672\n",
            "SGD Regressor R-squared: 0.8623732491011284\n"
          ]
        }
      ]
    },
    {
      "cell_type": "code",
      "source": [
        "from sklearn.ensemble import RandomForestRegressor\n",
        "\n",
        "rf_model = RandomForestRegressor(random_state=42)\n",
        "rf_model.fit(X_train, y_train)\n",
        "\n",
        "y_pred_rf = rf_model.predict(X_test)\n",
        "\n",
        "mse_rf = mean_squared_error(y_test, y_pred_rf)\n",
        "r2_rf = r2_score(y_test, y_pred_rf)\n",
        "\n",
        "print(f\"Random Forest Regressor Mean Squared Error: {mse_rf}\")\n",
        "print(f\"Random Forest Regressor R-squared: {r2_rf}\")"
      ],
      "metadata": {
        "colab": {
          "base_uri": "https://localhost:8080/"
        },
        "id": "8Xl_i_SM1Hpg",
        "outputId": "4a463bfd-d99a-4eea-cb04-8280a84f5ee4"
      },
      "execution_count": 49,
      "outputs": [
        {
          "output_type": "stream",
          "name": "stdout",
          "text": [
            "Random Forest Regressor Mean Squared Error: 0.1316309649700677\n",
            "Random Forest Regressor R-squared: 0.891768792496222\n"
          ]
        }
      ]
    },
    {
      "cell_type": "code",
      "metadata": {
        "colab": {
          "base_uri": "https://localhost:8080/"
        },
        "id": "9490f8a0",
        "outputId": "963d7fee-2516-4334-c8f6-8f8873812889"
      },
      "source": [
        "from xgboost import XGBRegressor\n",
        "\n",
        "xgb_model = XGBRegressor(random_state=42)\n",
        "xgb_model.fit(X_train, y_train)\n",
        "\n",
        "y_pred_xgb = xgb_model.predict(X_test)\n",
        "\n",
        "mse_xgb = mean_squared_error(y_test, y_pred_xgb)\n",
        "r2_xgb = r2_score(y_test, y_pred_xgb)\n",
        "\n",
        "print(f\"XGBoost Regressor Mean Squared Error: {mse_xgb}\")\n",
        "print(f\"XGBoost Regressor R-squared: {r2_xgb}\")"
      ],
      "execution_count": 50,
      "outputs": [
        {
          "output_type": "stream",
          "name": "stdout",
          "text": [
            "XGBoost Regressor Mean Squared Error: 0.1264249557620073\n",
            "XGBoost Regressor R-squared: 0.8960493404888032\n"
          ]
        }
      ]
    },
    {
      "cell_type": "code",
      "metadata": {
        "colab": {
          "base_uri": "https://localhost:8080/"
        },
        "id": "c716f1c5",
        "outputId": "35f49829-0354-49be-e339-85c7b2b24e70"
      },
      "source": [
        "from sklearn.ensemble import BaggingRegressor\n",
        "\n",
        "bagging_model = BaggingRegressor(estimator = Lasso(alpha = 0.00035), random_state=42)\n",
        "bagging_model.fit(X_train, y_train)\n",
        "\n",
        "y_pred_bagging = bagging_model.predict(X_test)\n",
        "\n",
        "mse_bagging = mean_squared_error(y_test, y_pred_bagging)\n",
        "r2_bagging = r2_score(y_test, y_pred_bagging)\n",
        "\n",
        "print(f\"Bagging Regressor Mean Squared Error: {mse_bagging}\")\n",
        "print(f\"Bagging Regressor R-squared: {r2_bagging}\")"
      ],
      "execution_count": 54,
      "outputs": [
        {
          "output_type": "stream",
          "name": "stdout",
          "text": [
            "Bagging Regressor Mean Squared Error: 0.1307291377991968\n",
            "Bagging Regressor R-squared: 0.8925103037636146\n"
          ]
        }
      ]
    },
    {
      "cell_type": "code",
      "metadata": {
        "colab": {
          "base_uri": "https://localhost:8080/"
        },
        "id": "6417d828",
        "outputId": "06feb6a0-1798-4233-91d3-cb9b458977d7"
      },
      "source": [
        "from sklearn.ensemble import VotingRegressor\n",
        "\n",
        "estimators = [\n",
        "    ('lr', model),\n",
        "    ('lasso', lasso_model),\n",
        "    ('rf', rf_model),\n",
        "    ('xgb', xgb_model)\n",
        "]\n",
        "\n",
        "voting_model = VotingRegressor(estimators=estimators)\n",
        "\n",
        "voting_model.fit(X_train, y_train)\n",
        "\n",
        "y_pred_voting = voting_model.predict(X_test)\n",
        "\n",
        "mse_voting = mean_squared_error(y_test, y_pred_voting)\n",
        "r2_voting = r2_score(y_test, y_pred_voting)\n",
        "\n",
        "print(f\"Voting Regressor Mean Squared Error: {mse_voting}\")\n",
        "print(f\"Voting Regressor R-squared: {r2_voting}\")"
      ],
      "execution_count": 51,
      "outputs": [
        {
          "output_type": "stream",
          "name": "stdout",
          "text": [
            "Voting Regressor Mean Squared Error: 0.1081081876725995\n",
            "Voting Regressor R-squared: 0.9111099755630359\n"
          ]
        }
      ]
    },
    {
      "cell_type": "code",
      "metadata": {
        "colab": {
          "base_uri": "https://localhost:8080/"
        },
        "id": "35b2e6aa",
        "outputId": "fc91007a-dfbf-4c96-c277-b62a909f0e92"
      },
      "source": [
        "from sklearn.model_selection import cross_val_score\n",
        "\n",
        "scores = cross_val_score(voting_model, X, y, cv=5, scoring='r2')\n",
        "\n",
        "print(f\"Cross-validation R-squared scores: {scores}\")\n",
        "print(f\"Mean cross-validation R-squared score: {scores.mean()}\")\n",
        "print(f\"Standard deviation of cross-validation R-squared scores: {scores.std()}\")"
      ],
      "execution_count": 52,
      "outputs": [
        {
          "output_type": "stream",
          "name": "stdout",
          "text": [
            "Cross-validation R-squared scores: [0.90456703 0.86614003 0.88513279 0.90456199 0.78776424]\n",
            "Mean cross-validation R-squared score: 0.8696332153485781\n",
            "Standard deviation of cross-validation R-squared scores: 0.04334826390175447\n"
          ]
        }
      ]
    },
    {
      "cell_type": "code",
      "metadata": {
        "colab": {
          "base_uri": "https://localhost:8080/"
        },
        "id": "b16d2502",
        "outputId": "5a685a9e-f5dc-4d8e-c5d8-be7685467408"
      },
      "source": [
        "from sklearn.ensemble import AdaBoostRegressor\n",
        "\n",
        "adaboost_model = AdaBoostRegressor(random_state=1)\n",
        "adaboost_model.fit(X_train, y_train)\n",
        "\n",
        "y_pred_adaboost = adaboost_model.predict(X_test)\n",
        "\n",
        "mse_adaboost = mean_squared_error(y_test, y_pred_adaboost)\n",
        "r2_adaboost = r2_score(y_test, y_pred_adaboost)\n",
        "\n",
        "print(f\"AdaBoost Regressor Mean Squared Error: {mse_adaboost}\")\n",
        "print(f\"AdaBoost Regressor R-squared: {r2_adaboost}\")"
      ],
      "execution_count": 97,
      "outputs": [
        {
          "output_type": "stream",
          "name": "stdout",
          "text": [
            "AdaBoost Regressor Mean Squared Error: 0.21089215011135914\n",
            "AdaBoost Regressor R-squared: 0.8265977001322542\n"
          ]
        }
      ]
    },
    {
      "cell_type": "code",
      "metadata": {
        "colab": {
          "base_uri": "https://localhost:8080/"
        },
        "id": "5bef264f",
        "outputId": "22c37126-cd75-458a-b5ed-fb3ddfce0620"
      },
      "source": [
        "from sklearn.ensemble import GradientBoostingRegressor\n",
        "\n",
        "gradientboost_model = GradientBoostingRegressor(random_state=170)\n",
        "gradientboost_model.fit(X_train, y_train)\n",
        "\n",
        "y_pred_gradientboost = gradientboost_model.predict(X_test)\n",
        "\n",
        "mse_gradientboost = mean_squared_error(y_test, y_pred_gradientboost)\n",
        "r2_gradientboost = r2_score(y_test, y_pred_gradientboost)\n",
        "\n",
        "print(f\"Gradient Boosting Regressor Mean Squared Error: {mse_gradientboost}\")\n",
        "print(f\"Gradient Boosting Regressor R-squared: {r2_gradientboost}\")"
      ],
      "execution_count": 95,
      "outputs": [
        {
          "output_type": "stream",
          "name": "stdout",
          "text": [
            "Gradient Boosting Regressor Mean Squared Error: 0.1053354616833345\n",
            "Gradient Boosting Regressor R-squared: 0.9133897999338706\n"
          ]
        }
      ]
    },
    {
      "cell_type": "code",
      "source": [
        "scores = cross_val_score(gradientboost_model, X, y, cv=5, scoring='r2')\n",
        "\n",
        "print(f\"Cross-validation R-squared scores: {scores}\")\n",
        "print(f\"Mean cross-validation R-squared score: {scores.mean()}\")\n",
        "print(f\"Standard deviation of cross-validation R-squared scores: {scores.std()}\")"
      ],
      "metadata": {
        "colab": {
          "base_uri": "https://localhost:8080/"
        },
        "id": "sAFjLQ80jQl7",
        "outputId": "0786bfde-698f-41ff-8033-70dcd3834c62"
      },
      "execution_count": 99,
      "outputs": [
        {
          "output_type": "stream",
          "name": "stdout",
          "text": [
            "Cross-validation R-squared scores: [0.90050757 0.86227906 0.89598425 0.8936558  0.89303958]\n",
            "Mean cross-validation R-squared score: 0.8890932547541294\n",
            "Standard deviation of cross-validation R-squared scores: 0.013661359820178437\n"
          ]
        }
      ]
    }
  ]
}